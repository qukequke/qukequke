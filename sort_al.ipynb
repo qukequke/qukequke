{
 "cells": [
  {
   "cell_type": "code",
   "execution_count": 28,
   "metadata": {},
   "outputs": [
    {
     "data": {
      "text/plain": [
       "[-45, 0, 3, 4, 4, 5, 6, 6, 6, 73, 76, 436, 8342]"
      ]
     },
     "execution_count": 28,
     "metadata": {},
     "output_type": "execute_result"
    }
   ],
   "source": [
    "#冒泡法，每次只比较两个值 ，吧大的放右面，结果是最大的放在了最右面，循环n-1次 全部排列好\n",
    "#稳定\n",
    "def bubble_sort(nums):\n",
    "    for j in range(len(nums)-1):\n",
    "        for i in range(len(nums)-1):#优化1 可以改成for i in range(len(nums)-1-j) 因为最右面的不用再判断了\n",
    "            if nums[i]>nums[i+1]:\n",
    "                nums[i],nums[i+1] = nums[i+1],nums[i]\n",
    "    return nums\n",
    "#这是自己写的。可以有两个优化\n",
    "#优化2 如果这个本身就是排列好的，就不用内层循环那么多次了，可以添加一个判断，就不进行内层循环了\n",
    "bubble_sort([0,4,3,4,5,6,8342,436,76,73,6,-45,6])"
   ]
  },
  {
   "cell_type": "code",
   "execution_count": 29,
   "metadata": {},
   "outputs": [
    {
     "name": "stdout",
     "output_type": "stream",
     "text": [
      "[0, 3, 4, 5, 6]\n"
     ]
    }
   ],
   "source": [
    "#冒泡法 小优化\n",
    "def bubble_sort(nums):\n",
    "    index = 0\n",
    "    for j in range(len(nums)-1):\n",
    "        for i in range(len(nums)-1-j):\n",
    "            if nums[i]>nums[i+1]:\n",
    "                nums[i],nums[i+1] = nums[i+1],nums[i]\n",
    "                index += 1\n",
    "        if index == 0:\n",
    "            return nums\n",
    "    return nums\n",
    "print(bubble_sort([0,3,4,5,6]))"
   ]
  },
  {
   "cell_type": "code",
   "execution_count": 1,
   "metadata": {},
   "outputs": [
    {
     "name": "stdout",
     "output_type": "stream",
     "text": [
      "[-23, 2, 2, 2, 3, 3, 4, 4, 4, 22, 44, 234, 4234]\n"
     ]
    }
   ],
   "source": [
    "#选择法  每次选择一个最小值\n",
    "#不稳定\n",
    "def select_sort(nums):\n",
    "    n = len(nums)\n",
    "    min_index = 0\n",
    "    for j in range(n-1):\n",
    "        #print('j=%d'%j)\n",
    "        min = nums[j] #每次都默认吧第一个当作最小值，和最小值索引\n",
    "        min_index = j\n",
    "        for i in range(1+j, n):\n",
    "            if min>nums[i]:\n",
    "                min = nums[i]\n",
    "                min_index = i\n",
    "        if min_index != j:\n",
    "            nums[j], nums[min_index] = nums[min_index], nums[j]\n",
    "    print(nums)\n",
    "nums2 = [4,2,3,4,3,2,4,22,44,-23,4234,234,2]\n",
    "select_sort(nums2)\n",
    "#可以把min去掉  用min_index替代"
   ]
  },
  {
   "cell_type": "code",
   "execution_count": 85,
   "metadata": {},
   "outputs": [
    {
     "name": "stdout",
     "output_type": "stream",
     "text": [
      "[2, 3, -55, 4]\n"
     ]
    }
   ],
   "source": [
    "#插入法 ，分成两拨，有序和无序， 无序的一直往左边有序的比较 插入  \n",
    "#稳定\n",
    "def inser_sort(nums):\n",
    "    n = len(nums)\n",
    "    for i in range(1, n):\n",
    "        while i >0:  #每个值不断和前面比较，交换\n",
    "            if nums[i] < nums[i-1]:\n",
    "                nums[i],nums[i-1] = nums[i-1], nums[i]\n",
    "                i -= 1\n",
    "#                 print(nums)\n",
    "            else:\n",
    "                break\n",
    "    print(nums)\n",
    "inser_sort([2,3,4,1-56])"
   ]
  },
  {
   "cell_type": "code",
   "execution_count": 86,
   "metadata": {},
   "outputs": [
    {
     "name": "stdout",
     "output_type": "stream",
     "text": [
      "[-56, 1, 2, 3, 4]\n"
     ]
    }
   ],
   "source": [
    "#内层也可以用for循环\n",
    "def inser_sort(nums):\n",
    "    n = len(nums)\n",
    "    for i in range(1, n):\n",
    "        for j in range(i, 0, -1):  #每个值不断和前面比较，交换\n",
    "            if nums[j] < nums[j-1]:\n",
    "                nums[j],nums[j-1] = nums[j-1], nums[j]\n",
    "#                 print(nums)\n",
    "            else:\n",
    "                break\n",
    "    print(nums)\n",
    "inser_sort([2,3,4,1,-56])"
   ]
  },
  {
   "cell_type": "code",
   "execution_count": 109,
   "metadata": {},
   "outputs": [
    {
     "name": "stdout",
     "output_type": "stream",
     "text": [
      "[-3, 1, 2, 3, 4, 5, 5, 6, 234, 234]\n"
     ]
    }
   ],
   "source": [
    "# shell sort希尔排序， 用gap  不稳定\n",
    "def shell_sort(nums):\n",
    "    n = len(nums)\n",
    "    gap = n // 2\n",
    "    while gap >= 1:\n",
    "        for i in range(1,n):\n",
    "#             print('i='+str(i))\n",
    "            for j in range(i,0,-gap):\n",
    "                if nums[j] < nums[j-gap] and (j-gap)>=0:\n",
    "#                     print('j='+str(j))\n",
    "                    nums[j],nums[j-gap] = nums[j-gap], nums[j]\n",
    "                else:\n",
    "                    break\n",
    "        gap = gap // 2\n",
    "#         print('gap=' + str(gap))\n",
    "    print(nums)\n",
    "shell_sort([6,5,4,3,2,1,-3,234,234,5])"
   ]
  },
  {
   "cell_type": "code",
   "execution_count": 2,
   "metadata": {},
   "outputs": [
    {
     "name": "stdout",
     "output_type": "stream",
     "text": [
      "[1, 2, 3, 4, 4, 4, 4, 5, 5, 5, 5, 6, 6, 7, 234]\n"
     ]
    }
   ],
   "source": [
    "#快速排序 左右到右遍历每个值，左右各一个指针，有看右面的指针high吧他和遍历的值比较，要是如果high指向的值大,则high减一\n",
    "#要是high小，nums[low]=nums[high]，看low，low指针指向小于mid则low+1，一直到low指向值大于mid，则low和high互换\n",
    "def quick_sort(nums,start,end):\n",
    "    if start>=end:\n",
    "        return\n",
    "    mid_value = nums[start]\n",
    "    low = start\n",
    "    high = end\n",
    "\n",
    "    while low<high:\n",
    "        while high > low and nums[high]>=mid_value:\n",
    "            high -= 1\n",
    "        nums[low] = nums[high]\n",
    "#         low+=1\n",
    "        while low < high and nums[low]<mid_value:\n",
    "            low += 1\n",
    "        nums[high] = nums[low]\n",
    "#         high -= 1\n",
    "#     print(high)\n",
    "#     print(low)\n",
    "    nums[high] = mid_value\n",
    "    quick_sort(nums,start,low-1)\n",
    "    quick_sort(nums,low+1,end)\n",
    "    return nums\n",
    "    \n",
    "a = [5,4,3,2,1,4,4,234,4,5,5,6,7,6,5]\n",
    "n = len(a)\n",
    "print(quick_sort(a,0,n-1))\n",
    "#假设每次从中间分\n",
    "#需要分到每个都是1，2**x = n  x = logn  x次 每次都是n 所有O（n） = nlog（n） 这是最优时间复杂度\n",
    "#最坏为n**2 不稳定"
   ]
  },
  {
   "cell_type": "code",
   "execution_count": 35,
   "metadata": {
    "collapsed": true
   },
   "outputs": [],
   "source": [
    "#归并排序\n",
    "def merge_sort(nums):\n",
    "    if len(nums)<=1:\n",
    "        return nums\n",
    "    n = len(nums)\n",
    "    mid = n // 2\n",
    "#     print('mid='+str(mid))\n",
    "    left_li = merge_sort(nums[:mid])\n",
    "#     print('left_li='+str(left_li))\n",
    "#     print('mid='+str(mid))\n",
    "    right_li = merge_sort(nums[mid:])\n",
    "#     print('right_li='+str(right_li))\n",
    "merge_sort([1,2,3,4,5])"
   ]
  },
  {
   "cell_type": "code",
   "execution_count": 45,
   "metadata": {},
   "outputs": [
    {
     "name": "stdout",
     "output_type": "stream",
     "text": [
      "False\n"
     ]
    }
   ],
   "source": [
    "#二分法查找\n",
    "def binary_search(nums,target):\n",
    "    left = 0\n",
    "    n = len(nums)\n",
    "    right = n-1\n",
    "    while left<=right:\n",
    "#         print('nums[mid]='+str(nums[mid]))\n",
    "        mid = (left+right)//2\n",
    "        if nums[mid]==target:\n",
    "            return mid\n",
    "        elif nums[mid]>target:\n",
    "            right = mid-1\n",
    "        elif nums[mid]<target:\n",
    "            left = mid+1\n",
    "    return False\n",
    "print(binary_search([1,2,3,4,5],6))"
   ]
  },
  {
   "cell_type": "code",
   "execution_count": null,
   "metadata": {
    "collapsed": true
   },
   "outputs": [],
   "source": []
  }
 ],
 "metadata": {
  "kernelspec": {
   "display_name": "Python 3",
   "language": "python",
   "name": "python3"
  },
  "language_info": {
   "codemirror_mode": {
    "name": "ipython",
    "version": 3
   },
   "file_extension": ".py",
   "mimetype": "text/x-python",
   "name": "python",
   "nbconvert_exporter": "python",
   "pygments_lexer": "ipython3",
   "version": "3.6.2"
  }
 },
 "nbformat": 4,
 "nbformat_minor": 2
}
