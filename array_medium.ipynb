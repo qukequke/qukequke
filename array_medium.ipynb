{
 "cells": [
  {
   "cell_type": "code",
   "execution_count": 32,
   "metadata": {},
   "outputs": [
    {
     "name": "stdout",
     "output_type": "stream",
     "text": [
      "[[-1, 0, 1], [-1, -1, 2]]\n"
     ]
    }
   ],
   "source": [
    "#15. 3Sum  #暴力循环，Tl\n",
    "def three_sum(nums):\n",
    "    a = []\n",
    "    n = len(nums)\n",
    "    for i in range(n):\n",
    "        for j in range(i+1, n):\n",
    "            for k in range(j+1, n):\n",
    "                b = sorted([nums[i], nums[j], nums[k]])\n",
    "                if nums[i]+nums[j]+nums[k] == 0 and b not in a:\n",
    "                    a.append(b)\n",
    "    print(a)\n",
    "three_sum([-1, 0, 1, 2, -1, -4])"
   ]
  },
  {
   "cell_type": "code",
   "execution_count": 63,
   "metadata": {},
   "outputs": [
    {
     "data": {
      "text/plain": [
       "[[0, 0, 0]]"
      ]
     },
     "execution_count": 63,
     "metadata": {},
     "output_type": "execute_result"
    }
   ],
   "source": [
    "#   如果不加入 判断if b not in a: 还凑合，这种方法判断重复性会超时， 我下面的程序用字典的not in 通过了，说明\n",
    "#   字典的not in比list快\n",
    "#   这是先把所有符合的 填进去， 更好的应该是最循环中判断重复。（更好的想法，没实现）\n",
    "#   这是在循环里面用字典判断，效果和在后来一起判断差不多\n",
    "def three_sum2(nums):\n",
    "    if len(nums) < 3:\n",
    "        return []\n",
    "    nums.sort()\n",
    "    a = []\n",
    "    ccc = 0\n",
    "    for i in range(len(nums)):\n",
    "        if nums[i] == 0 :\n",
    "            ccc += 1\n",
    "    if nums and ccc == len(nums):\n",
    "        return [[0, 0, 0]]\n",
    "    for i in range(len(nums)):\n",
    "        k = len(nums)-1\n",
    "        j = i+1\n",
    "        while j < k:\n",
    "            cur_sum = nums[i]+nums[j]+nums[k]\n",
    "            b = [nums[i], nums[j], nums[k]]\n",
    "            if cur_sum == 0:\n",
    "                j += 1\n",
    "                if str(b) not in dict_a:\n",
    "                    a.append(b)\n",
    "                    dict_a[str(b)] = 1 \n",
    "            if cur_sum > 0:\n",
    "                k -= 1\n",
    "            if cur_sum < 0:\n",
    "                j += 1\n",
    "            print(dict_a)\n",
    "    return a\n",
    "three_sum2([0,0,0,0,0,0,0,0,0,0,0,0,0,0,0,0,0,0,0,0,0,0,0,0,0,0,0,0,0,0,0,0,0,0,0,0,0,0,0,0,0,0,0,0,0,0,0,0,0,0,0,0,0,0,0,0,0,0,0,0,0,0,0,0,0,0,0,0,0,0,0,0,0,0,0,0,0,0,0,0,0,0,0,0,0,0,0,0,0,0,0,0,0,0,0,0,0,0,0,0,0,0,0,0,0,0,0,0,0,0,0,0,0,0,0,0,0,0,0,0,0,0,0,0,0,0,0,0,0,0,0,0,0,0,0,0,0,0,0,0,0,0,0,0,0,0,0,0,0,0,0,0,0,0,0,0,0,0,0,0,0,0,0,0,0,0,0,0,0,0,0,0,0,0,0,0,0,0,0,0,0,0,0,0,0,0,0,0,0,0,0,0,0,0,0,0,0,0,0,0,0,0,0,0,0,0,0,0,0,0,0,0,0,0,0,0,0,0,0,0,0,0,0,0,0,0,0,0,0,0,0,0,0,0,0,0,0,0,0,0,0,0,0,0,0,0,0,0,0,0,0,0,0,0,0,0,0,0,0,0,0,0,0,0,0,0,0,0,0,0,0,0,0,0,0,0,0,0,0,0,0,0,0,0,0,0,0,0,0,0,0,0,0,0,0,0,0,0,0,0,0,0,0,0,0,0,0,0,0,0,0,0,0,0,0,0,0,0,0,0,0,0,0,0,0,0,0,0,0,0,0,0,0,0,0,0,0,0,0,0,0,0,0,0,0,0,0,0,0,0,0,0,0,0,0,0,0,0,0,0,0,0,0,0,0,0,0,0,0,0,0,0,0,0,0,0,0,0,0,0,0,0,0,0,0,0,0,0,0,0,0,0,0,0,0,0,0,0,0,0,0,0,0,0,0,0,0,0,0,0,0,0,0,0,0,0,0,0,0,0,0,0,0,0,0,0,0,0,0,0,0,0,0,0,0,0,0,0,0,0,0,0,0,0,0,0,0,0,0,0,0,0,0,0,0,0,0,0,0,0,0,0,0,0,0,0,0,0,0,0,0,0,0,0,0,0,0,0,0,0,0,0,0,0,0,0,0,0,0,0,0,0,0,0,0,0,0,0,0,0,0,0,0,0,0,0,0,0,0,0,0,0,0,0,0,0,0,0,0,0,0,0,0,0,0,0,0,0,0,0,0,0,0,0,0,0,0,0,0,0,0,0,0,0,0,0,0,0,0,0,0,0,0,0,0,0,0,0,0,0,0,0,0,0,0,0,0,0,0,0,0,0,0,0,0,0,0,0,0,0,0,0,0,0,0,0,0,0,0,0,0,0,0,0,0,0,0,0,0,0,0,0,0,0,0,0,0,0,0,0,0,0,0,0,0,0,0,0,0,0,0,0,0,0,0,0,0,0,0,0,0,0,0,0,0,0,0,0,0,0,0,0,0,0,0,0,0,0,0,0,0,0,0,0,0,0,0,0,0,0,0,0,0,0,0,0,0,0,0,0,0,0,0,0,0,0,0,0,0,0,0,0,0,0,0,0,0,0,0,0,0,0,0,0,0,0,0,0,0,0,0,0,0,0,0,0,0,0,0,0,0,0,0,0,0,0,0,0,0,0,0,0,0,0,0,0,0,0,0,0,0,0,0,0,0,0,0,0,0,0,0,0,0,0,0,0,0,0,0,0,0,0,0,0,0,0,0,0,0,0,0,0,0,0,0,0,0,0,0,0,0,0,0,0,0,0,0,0,0,0,0,0,0,0,0,0,0,0,0,0,0,0,0,0,0,0,0,0,0,0,0,0,0,0,0,0,0,0,0,0,0,0,0,0,0,0,0,0,0,0,0,0,0,0,0,0,0,0,0,0,0,0,0,0,0,0,0,0,0,0,0,0,0,0,0,0,0,0,0,0,0,0,0,0,0,0,0,0,0,0,0,0,0,0,0,0,0,0,0,0,0,0,0,0,0,0,0,0,0,0,0,0,0,0,0,0,0,0,0,0,0,0,0,0,0,0,0,0,0,0,0,0,0,0,0,0,0,0,0,0,0,0,0,0,0,0,0,0,0,0,0,0,0,0,0,0,0,0,0,0,0,0,0,0,0,0,0,0,0,0,0,0,0,0,0,0,0,0,0,0,0,0,0,0,0,0,0,0,0,0,0,0,0,0,0,0,0,0,0,0,0,0,0,0,0,0,0,0,0,0,0,0,0,0,0,0,0,0,0,0,0,0,0,0,0,0,0,0,0,0,0,0,0,0,0,0,0,0,0,0,0,0,0,0,0,0,0,0,0,0,0,0,0,0,0,0,0,0,0,0,0,0,0,0,0,0,0,0,0,0,0,0,0,0,0,0,0,0,0,0,0,0,0,0,0,0,0,0,0,0,0,0,0,0,0,0,0,0,0,0,0,0,0,0,0,0,0,0,0,0,0,0,0,0,0,0,0,0,0,0,0,0,0,0,0,0,0,0,0,0,0,0,0,0,0,0,0,0,0,0,0,0,0,0,0,0,0,0,0,0,0,0,0,0,0,0,0,0,0,0,0,0,0,0,0,0,0,0,0,0,0,0,0,0,0,0,0,0,0,0,0,0,0,0,0,0,0,0,0,0,0,0,0,0,0,0,0,0,0,0,0,0,0,0,0,0,0,0,0,0,0,0,0,0,0,0,0,0,0,0,0,0,0,0,0,0,0,0,0,0,0,0,0,0,0,0,0,0,0,0,0,0,0,0,0,0,0,0,0,0,0,0,0,0,0,0,0,0,0,0,0,0,0,0,0,0,0,0,0,0,0,0,0,0,0,0,0,0,0,0,0,0,0,0,0,0,0,0,0,0,0,0,0,0,0,0,0,0,0,0,0,0,0,0,0,0,0,0,0,0,0,0,0,0,0,0,0,0,0,0,0,0,0,0,0,0,0,0,0,0,0,0,0,0,0,0,0,0,0,0,0,0,0,0,0,0,0,0,0,0,0,0,0,0,0,0,0,0,0,0,0,0,0,0,0,0,0,0,0,0,0,0,0,0,0,0,0,0,0,0,0,0,0,0,0,0,0,0,0,0,0,0,0,0,0,0,0,0,0,0,0,0,0,0,0,0,0,0,0,0,0,0,0,0,0,0,0,0,0,0,0,0,0,0,0,0,0,0,0,0,0,0,0,0,0,0,0,0,0,0,0,0,0,0,0,0,0,0,0,0,0,0,0,0,0,0,0,0,0,0,0,0,0,0,0,0,0,0,0,0,0,0,0,0,0,0,0,0,0,0,0,0,0,0,0,0,0,0,0,0,0,0,0,0,0,0,0,0,0,0,0,0,0,0,0,0,0,0,0,0,0,0,0,0,0,0,0,0,0,0,0,0,0,0,0,0,0,0,0,0,0,0,0,0,0,0,0,0,0,0,0,0,0,0,0,0,0,0,0,0,0,0,0,0,0,0,0,0,0,0,0,0,0,0,0,0,0,0,0,0,0,0,0,0,0,0,0,0,0,0,0,0,0,0,0,0,0,0,0,0,0,0,0,0,0,0,0,0,0,0,0,0,0,0,0,0,0,0,0,0,0,0,0,0,0,0,0,0,0,0,0,0,0,0,0,0,0,0,0,0,0,0,0,0,0,0,0,0,0,0,0,0,0,0,0,0,0,0,0,0,0,0,0,0,0,0,0,0,0,0,0,0,0,0,0,0,0,0,0,0,0,0,0,0,0,0,0,0,0,0,0,0,0,0,0,0,0,0,0,0,0,0,0,0,0,0,0,0,0,0,0,0,0,0,0,0,0,0,0,0,0,0,0,0,0,0,0,0,0,0,0,0,0,0,0,0,0,0,0,0,0,0,0,0,0,0,0,0,0,0,0,0,0,0,0,0,0,0,0,0,0,0,0,0,0,0,0,0,0,0,0,0,0,0,0,0,0,0,0,0,0,0,0,0,0,0,0,0,0,0,0,0,0,0,0,0,0,0,0,0,0,0,0,0,0,0,0,0,0,0,0,0,0,0,0,0,0,0,0,0,0,0,0,0,0,0,0,0,0,0,0,0,0,0,0,0,0,0,0,0,0,0,0,0,0,0,0,0,0,0,0,0,0,0,0,0,0,0,0,0,0,0,0,0,0,0,0,0,0,0,0,0,0,0,0,0,0,0,0,0,0,0,0,0,0,0,0,0,0,0,0,0,0,0,0,0,0,0,0,0,0,0,0,0,0,0,0,0,0,0,0,0,0,0,0,0,0,0,0,0,0,0,0,0,0,0,0,0,0,0,0,0,0,0,0,0,0,0,0,0,0,0,0,0,0,0,0,0,0,0,0,0,0,0,0,0,0,0,0,0,0,0,0,0,0,0,0,0,0,0,0,0,0,0,0,0,0,0,0,0,0,0,0,0,0,0,0,0,0,0,0,0,0,0,0,0,0,0,0,0,0,0,0,0,0,0,0,0,0,0,0,0,0,0,0,0,0,0,0,0,0,0,0,0,0,0,0,0,0,0,0,0,0,0,0,0,0,0,0,0,0,0,0,0,0,0,0,0,0,0,0,0,0,0,0,0,0,0,0,0,0,0,0,0,0,0,0,0,0,0,0,0,0,0,0,0,0,0,0,0,0,0,0,0,0,0,0,0,0,0,0,0,0,0,0,0,0,0,0,0,0,0,0,0,0,0,0,0,0,0,0,0,0,0,0,0,0,0,0,0,0,0,0,0,0,0,0,0,0,0,0,0,0,0,0,0,0,0,0,0,0,0,0,0,0,0,0,0,0,0,0,0,0,0,0,0,0,0,0,0,0,0,0,0,0,0,0,0,0,0,0,0,0,0,0,0,0,0,0,0,0,0,0,0,0,0,0,0,0,0,0,0,0,0,0,0,0,0,0,0,0,0,0,0,0,0,0,0,0,0,0,0,0,0,0,0,0,0,0,0,0,0,0,0,0,0,0,0,0,0,0,0,0,0,0,0,0,0,0,0,0,0,0,0,0,0,0,0,0,0,0,0,0,0,0,0,0,0,0,0,0,0,0,0,0,0,0,0,0,0,0,0,0,0,0,0,0,0,0,0,0,0,0,0,0,0,0,0,0,0,0,0,0,0,0,0,0,0,0,0,0,0,0,0,0,0,0,0,0,0,0,0,0,0,0,0,0,0,0,0,0,0,0,0,0,0,0,0,0,0,0,0,0,0,0,0,0,0,0,0,0,0,0,0,0,0,0,0,0,0,0,0,0,0,0,0,0,0,0,0,0,0,0,0,0,0,0,0,0,0,0,0,0,0,0,0,0,0,0,0,0,0,0,0,0,0,0,0,0,0,0,0,0,0,0,0,0,0,0,0,0,0,0,0,0,0,0,0,0,0,0,0,0,0,0,0,0,0,0,0,0,0,0,0,0,0,0,0,0,0,0,0,0,0,0,0,0,0,0,0,0,0,0,0,0,0,0,0,0,0,0,0,0,0,0,0,0,0,0,0,0,0,0,0,0,0,0,0,0,0,0,0,0,0,0,0,0,0,0,0,0,0,0,0,0,0,0,0,0,0,0,0,0,0,0,0,0,0,0,0,0,0,0,0,0,0,0,0,0,0,0,0,0,0,0,0,0,0,0,0,0,0,0,0,0,0,0,0,0,0,0,0,0,0,0,0,0,0,0,0,0,0,0,0,0,0,0,0,0,0,0,0,0,0,0,0,0,0,0,0,0,0,0,0,0,0,0,0,0,0,0,0,0,0,0,0,0,0,0,0,0,0,0,0,0,0,0,0,0,0,0,0,0,0,0,0,0,0,0,0,0,0,0,0,0,0,0,0,0,0,0,0,0,0,0,0,0,0,0,0,0,0,0,0,0,0,0,0,0,0,0,0,0,0,0,0,0,0,0,0,0,0,0,0,0,0,0,0,0,0,0,0,0,0,0,0,0,0,0,0,0,0,0,0,0,0,0,0,0,0,0,0,0,0,0,0,0,0,0,0,0,0,0,0,0,0,0,0,0,0,0,0,0,0,0,0,0,0,0,0,0,0,0,0,0,0,0,0,0,0,0,0,0,0,0,0,0,0,0,0,0,0,0,0,0,0,0,0,0,0,0,0,0,0,0,0,0,0,0,0,0,0,0,0,0,0,0,0,0,0,0,0,0,0,0,0,0,0,0,0,0,0,0,0,0,0,0,0,0,0,0,0,0,0,0,0,0,0,0,0,0,0,0,0,0,0,0,0,0,0,0,0,0,0,0,0,0,0,0,0,0,0,0,0,0,0,0,0,0,0,0,0,0,0,0,0,0,0,0,0,0,0,0,0,0,0,0,0,0,0,0,0,0,0,0,0,0,0,0,0,0,0,0,0,0,0,0,0,0,0,0,0,0,0,0,0,0,0,0,0,0,0,0,0,0,0,0,0,0,0,0,0,0,0,0,0,0,0,0,0,0,0,0,0,0,0,0,0,0,0,0,0,0,0,0,0,0,0,0,0,0,0,0,0,0,0,0,0,0,0,0,0,0,0,0,0,0,0,0,0,0,0,0,0,0,0,0,0,0,0,0,0,0,0,0,0,0,0,0,0,0,0,0,0,0,0,0,0,0,0,0,0,0,0,0,0,0,0,0,0,0,0,0,0,0,0,0,0,0,0,0,0,0,0,0,0,0,0,0,0,0,0,0,0,0,0,0,0,0,0,0,0,0,0,0,0,0,0,0,0,0,0,0,0,0,0,0,0,0,0,0,0,0,0,0,0,0,0,0,0,0,0,0,0,0,0,0,0,0,0,0,0,0,0,0,0,0,0,0,0])"
   ]
  },
  {
   "cell_type": "code",
   "execution_count": 19,
   "metadata": {},
   "outputs": [
    {
     "name": "stdout",
     "output_type": "stream",
     "text": [
      "{(-1, -1, 2), (-1, 0, 1)}\n"
     ]
    },
    {
     "data": {
      "text/plain": [
       "[[-1, -1, 2], [-1, 0, 1]]"
      ]
     },
     "execution_count": 19,
     "metadata": {},
     "output_type": "execute_result"
    }
   ],
   "source": [
    "def threeSum3(nums):\n",
    "    \"\"\"\n",
    "    :type nums: List[int]\n",
    "    :rtype: List[List[int]]\n",
    "    \"\"\"\n",
    "    if len(nums) < 3:\n",
    "        return []\n",
    "    nums.sort()\n",
    "    a = set()\n",
    "    ccc = 0\n",
    "    for i in range(len(nums)):\n",
    "        if nums[i] == 0 :\n",
    "            ccc += 1\n",
    "    if nums and ccc == len(nums):\n",
    "        return [[0, 0, 0]]\n",
    "    for i in range(len(nums)):\n",
    "        k = len(nums)-1\n",
    "        j = i+1\n",
    "        while j < k:\n",
    "            cur_sum = nums[i]+nums[j]+nums[k]\n",
    "            b = (nums[i], nums[j], nums[k])\n",
    "            if cur_sum == 0:\n",
    "                j += 1\n",
    "                a.add(b)\n",
    "            if cur_sum > 0:\n",
    "                k -= 1\n",
    "            if cur_sum < 0:\n",
    "                j += 1\n",
    "    print(a)\n",
    "    return [list(i) for i in a]\n",
    "#   原来这是字典去重  ， 改成set add（tuple）然后list 改后提高不少1700 - 1400 ms 20%=70%\n",
    "#     aa = {}\n",
    "#     c  = []\n",
    "#     for i, j in enumerate(a):\n",
    "#         if str(j) not in aa:\n",
    "#             c.append(j)\n",
    "#             aa[str(j)] = i\n",
    "threeSum3([-1, 0, 1, 2, -1, -4])"
   ]
  },
  {
   "cell_type": "code",
   "execution_count": 26,
   "metadata": {},
   "outputs": [
    {
     "name": "stdout",
     "output_type": "stream",
     "text": [
      "[-4, -1, 1, 2]\n"
     ]
    },
    {
     "data": {
      "text/plain": [
       "2"
      ]
     },
     "execution_count": 26,
     "metadata": {},
     "output_type": "execute_result"
    }
   ],
   "source": [
    "#16. 3Sum Closest  居然直接通过了，完全自己写\n",
    "#比较大小还是和上面的一样  定住一个，然后两个指针动， 判断变了 ，把每个abs 和 sum存到字典中，再遍历找到最小值对应\n",
    "#的sum\n",
    "def three_sum_clos(nums, target):\n",
    "    nums.sort()\n",
    "    print(nums)\n",
    "#     a_sum = nums[0] + nums[1] + nums[-1]\n",
    "    a = {}\n",
    "    for i in range(len(nums)-2):\n",
    "        j = i + 1\n",
    "        k = len(nums)-1\n",
    "        while j < k:\n",
    "            a_sum = nums[i] + nums[j] + nums[k]\n",
    "            a[abs(nums[i] + nums[j] + nums[k] - target)] = nums[i] + nums[j] + nums[k]\n",
    "#             print('i='+str(i))\n",
    "#             print('a_sum='+str(a_sum))\n",
    "            if a_sum - target == 0:\n",
    "#                 print('1')\n",
    "                return a_sum\n",
    "            if a_sum - target < 0:\n",
    "#                 print('2')\n",
    "                j += 1\n",
    "            if (a_sum - target) > 0:\n",
    "#                 print('3')\n",
    "                k -= 1\n",
    "    min_value = min(a.keys())\n",
    "    for i, j in a.items():\n",
    "        if i == min_value:\n",
    "            return j\n",
    "#             a_sum = nums[i] + nums[j] + nums[k]\n",
    "#     print(a)\n",
    "#             pre = (nums[i] + nums[j] + nums[k]) - target\n",
    "three_sum_clos([-1, 2, 1, -4], 1)"
   ]
  },
  {
   "cell_type": "code",
   "execution_count": 43,
   "metadata": {},
   "outputs": [
    {
     "name": "stdout",
     "output_type": "stream",
     "text": [
      "[-2, -1, 0, 0, 1, 2]\n"
     ]
    },
    {
     "data": {
      "text/plain": [
       "[[-2, -1, 1, 2], [-2, 0, 0, 2], [-1, 0, 0, 1]]"
      ]
     },
     "execution_count": 43,
     "metadata": {},
     "output_type": "execute_result"
    }
   ],
   "source": [
    "#18   4sum   TL 通过3sum的方式写的 ，过不去\n",
    "def four_sum(nums, target):\n",
    "    a = []\n",
    "    nums.sort()\n",
    "    print(nums)\n",
    "    for i in range(len(nums)-3):\n",
    "        for j in range(i+1, len(nums)-2):\n",
    "            m = j+1\n",
    "            n = len(nums) - 1\n",
    "            while m < n:\n",
    "#                 print(nums[i] + nums[j] + nums[m] + nums[n])\n",
    "#                 print(target)\n",
    "                if nums[i] + nums[j] + nums[m] + nums[n] == target:\n",
    "                    a.append([nums[i], nums[j], nums[m], nums[n]])\n",
    "                    m += 1\n",
    "                if nums[i] + nums[j] + nums[m] + nums[n] < target:\n",
    "                    m += 1\n",
    "                if nums[i] + nums[j] + nums[m] + nums[n] > target:\n",
    "                    n -= 1\n",
    "    #去重\n",
    "    c = []\n",
    "    for i in a:\n",
    "        if i not in c:\n",
    "            c.append(i)\n",
    "    return c\n",
    "four_sum([1, 0, -1, 0, -2, 2], 0)"
   ]
  },
  {
   "cell_type": "code",
   "execution_count": 26,
   "metadata": {},
   "outputs": [
    {
     "name": "stdout",
     "output_type": "stream",
     "text": [
      "[-2, -1, 0, 0, 1, 2]\n"
     ]
    },
    {
     "data": {
      "text/plain": [
       "[[-2, -1, 1, 2], [-2, 0, 0, 2], [-1, 0, 0, 1]]"
      ]
     },
     "execution_count": 26,
     "metadata": {},
     "output_type": "execute_result"
    }
   ],
   "source": [
    "def fourSum(nums, target):\n",
    "   #好像把4sum分成了两个加， 先把两个的加和 和 索引存到字典里， 然后再进行比较 由O(n^4) - 2*O(n^2)\n",
    "    ln = len(nums)\n",
    "    res = set()  #当添加不用的列表时，可以用set.add元组，再把元组改成列表 \n",
    "    dict = {}\n",
    "    if ln < 4:\n",
    "        return []\n",
    "\n",
    "    nums.sort()\n",
    "    print(nums)\n",
    "    for  p in range(ln):\n",
    "        for q in range(p+1, ln):\n",
    "            if nums[p] + nums[q] not in dict:\n",
    "                dict[nums[p] + nums[q]]=[(p, q)]\n",
    "            else:\n",
    "                dict[nums[p] + nums[q]].append((p, q))\n",
    "    for i in range(ln):\n",
    "        for j in range(i+1, ln-2):\n",
    "            T = target - nums[i] - nums[j]\n",
    "            if T in dict:\n",
    "                for k in dict[T]:\n",
    "                    if k[0] > j: # 不加这个会有重复的\n",
    "                        res.add((nums[i], nums[j], nums[k[0]], nums[k[1]]))\n",
    "    return [list(i) for i in res]\n",
    "fourSum([1, 0, -1, 0, -2, 2], 0)"
   ]
  },
  {
   "cell_type": "code",
   "execution_count": 30,
   "metadata": {},
   "outputs": [
    {
     "data": {
      "text/plain": [
       "4"
      ]
     },
     "execution_count": 30,
     "metadata": {},
     "output_type": "execute_result"
    }
   ],
   "source": [
    "#565. Array Nesting S[i] = {A[i], A[A[i]], A[A[A[i]]], ... }    \n",
    "#     自写  TL   用的递归的方法\n",
    "def array_nest(nums):\n",
    "    a = []\n",
    "    def inner(n):\n",
    "        if nums[n] not in a:\n",
    "            a.append(nums[n])\n",
    "            inner(nums[n])\n",
    "        else:\n",
    "            return a\n",
    "    b = []\n",
    "    for i in range(len(nums)):\n",
    "        inner(i)\n",
    "#         print(a)\n",
    "        b.append(len(a))\n",
    "        a = []\n",
    "    return max(b)\n",
    "array_nest([5,4,0,3,1,6,2])"
   ]
  },
  {
   "cell_type": "code",
   "execution_count": 29,
   "metadata": {},
   "outputs": [
    {
     "data": {
      "text/plain": [
       "4"
      ]
     },
     "execution_count": 29,
     "metadata": {},
     "output_type": "execute_result"
    }
   ],
   "source": [
    "#  通过\n",
    "def array_nest2(nums):\n",
    "    c = []\n",
    "    for idx in range(len(nums)):\n",
    "        a = []\n",
    "        while nums[idx] >= 0:\n",
    "            a.append(nums[idx])  #先把后面用的值存下来，后面用，然后改成-1，再循环到这个数的时候就变成了-1 \n",
    "            a_next = nums[idx] \n",
    "            nums[idx] = -1\n",
    "            idx = a_next\n",
    "        if a:\n",
    "            c.append(a)\n",
    "    return max([len(i) for i in c])\n",
    "    print(c)\n",
    "array_nest2([5,4,0,3,1,6,2])"
   ]
  },
  {
   "cell_type": "code",
   "execution_count": 1,
   "metadata": {},
   "outputs": [
    {
     "name": "stdout",
     "output_type": "stream",
     "text": [
      "1\n"
     ]
    },
    {
     "data": {
      "text/plain": [
       "1"
      ]
     },
     "execution_count": 1,
     "metadata": {},
     "output_type": "execute_result"
    }
   ],
   "source": [
    "#11. Container With Most Water  TL\n",
    "def most_water(height):\n",
    "    area = 0\n",
    "    for i in range(len(height)-1):\n",
    "        for j in range(i+1, len(height)):\n",
    "            area = max((j-i)*min(height[j], height[i]), area)\n",
    "            print(area)\n",
    "    return area\n",
    "most_water([1, 1])"
   ]
  },
  {
   "cell_type": "code",
   "execution_count": 2,
   "metadata": {},
   "outputs": [
    {
     "data": {
      "text/plain": [
       "1"
      ]
     },
     "execution_count": 2,
     "metadata": {},
     "output_type": "execute_result"
    }
   ],
   "source": [
    "#https://segmentfault.com/a/1190000008824222\n",
    "#每次移动较小的指针， 证明在上面\n",
    "def most_water2(height):\n",
    "    area = 0\n",
    "    i = 0\n",
    "    k = len(height) - 1\n",
    "#     for i in range(len(height)-1):\n",
    "    while i < k:\n",
    "        area = max((k-i)*min(height[k], height[i]), area)\n",
    "        if height[i] <= height[k]:\n",
    "            i += 1\n",
    "        else:\n",
    "            k -= 1\n",
    "    return area\n",
    "most_water2([1, 1])"
   ]
  },
  {
   "cell_type": "code",
   "execution_count": 3,
   "metadata": {},
   "outputs": [
    {
     "data": {
      "text/plain": [
       "[3, 4]"
      ]
     },
     "execution_count": 3,
     "metadata": {},
     "output_type": "execute_result"
    }
   ],
   "source": [
    "#34. Search for a Range\n",
    "#直接顺序查找\n",
    "def searchRange(nums, target):\n",
    "    a = []\n",
    "    count = 0\n",
    "    for i, j in enumerate(nums):\n",
    "        if j == target:\n",
    "            a.append(i)\n",
    "    if len(a) < 1:\n",
    "        return [-1, -1]\n",
    "    if len(a) == 1:\n",
    "        a.append(a[0])\n",
    "    if len(a) >= 2:\n",
    "        return [a[0], a[-1]]\n",
    "searchRange([5, 7, 7, 8, 8, 10], 8)"
   ]
  },
  {
   "cell_type": "code",
   "execution_count": 60,
   "metadata": {},
   "outputs": [
    {
     "data": {
      "text/plain": [
       "[-1, -1]"
      ]
     },
     "execution_count": 60,
     "metadata": {},
     "output_type": "execute_result"
    }
   ],
   "source": [
    "#二分法查找\n",
    "#二分法适用于排序好的\n",
    "#注意 left<=right   left = mid - 1  right = mid + 1\n",
    "def searchRange2(nums, target):\n",
    "    a = []\n",
    "    left = 0\n",
    "    right = len(nums) - 1\n",
    "    while left <= right:\n",
    "        mid = int((left + right) / 2)\n",
    "        print('mid=' + str(mid))\n",
    "        if nums[mid] == target:\n",
    "            a.append(mid)\n",
    "            saved_mid = mid\n",
    "            while mid+1 < len(nums) and nums[mid+1] == target: #一旦找到一个值 找它的左边右边是不是target\n",
    "                print('mid+1='+str(mid+1))\n",
    "                a.append(mid+1)\n",
    "                mid += 1\n",
    "            mid = saved_mid\n",
    "            while mid-1 >= 0 and nums[mid-1] == target:\n",
    "                a.append(mid-1)\n",
    "                mid -= 1\n",
    "#             if len(a) < 1:\n",
    "#                 return [-1, -1]\n",
    "            print('a='+str(a))\n",
    "            if len(a) == 1:\n",
    "                a.append(a[0])\n",
    "            if len(a) >= 2:\n",
    "                a.sort()\n",
    "                return [a[0], a[-1]]\n",
    "        if nums[mid] > target:        \n",
    "            right = mid - 1 \n",
    "            print('right='+str(right))\n",
    "        if nums[mid] < target:       \n",
    "            left = mid + 1\n",
    "            print('left='+str(left))\n",
    "    return [-1, -1]\n",
    "searchRange2([], 8)"
   ]
  },
  {
   "cell_type": "code",
   "execution_count": null,
   "metadata": {
    "collapsed": true
   },
   "outputs": [],
   "source": [
    "#9. Combination Sum\n",
    "def combinationSum(candidates, target):\n",
    "    a = {}\n",
    "    ret = []\n",
    "    for i in range(len(candidates)):\n",
    "        if candidates[i] - target in a:\n",
    "            ret.append([])\n",
    "        else:\n",
    "            a[i] = candidates[i]"
   ]
  },
  {
   "cell_type": "code",
   "execution_count": null,
   "metadata": {
    "collapsed": true
   },
   "outputs": [],
   "source": []
  }
 ],
 "metadata": {
  "kernelspec": {
   "display_name": "Python 3",
   "language": "python",
   "name": "python3"
  },
  "language_info": {
   "codemirror_mode": {
    "name": "ipython",
    "version": 3
   },
   "file_extension": ".py",
   "mimetype": "text/x-python",
   "name": "python",
   "nbconvert_exporter": "python",
   "pygments_lexer": "ipython3",
   "version": "3.6.2"
  }
 },
 "nbformat": 4,
 "nbformat_minor": 2
}
