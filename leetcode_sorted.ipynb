{
 "cells": [
  {
   "cell_type": "code",
   "execution_count": 24,
   "metadata": {},
   "outputs": [
    {
     "name": "stdout",
     "output_type": "stream",
     "text": [
      "Counter({'M': 2, 'C': 2, 'X': 1, 'V': 1, 'I': 1})\n",
      "2216\n"
     ]
    }
   ],
   "source": [
    "def roman_to_int2(s):  #失败  这个跟前后顺序有关系， 不能这么弄\n",
    "    from collections import Counter\n",
    "    c = Counter(s)\n",
    "    a = {'I':1, 'V':5, 'X': 10, 'L':50, 'C':100, 'D':500, 'M':1000}\n",
    "    ret = 0\n",
    "    for i,j in c.items():\n",
    "        ret += a[i] * j\n",
    "    return ret\n",
    "print(roman_to_int2(\"MCMXCVI\"))"
   ]
  },
  {
   "cell_type": "code",
   "execution_count": 42,
   "metadata": {},
   "outputs": [
    {
     "name": "stdout",
     "output_type": "stream",
     "text": [
      "1996\n"
     ]
    }
   ],
   "source": [
    "#13 罗马数字转换 整数\n",
    "#思路是 先都加 如果左边的数小于右边的数 再减去2倍的左边的数\n",
    "#  IV  =  1 + 5 - 2\n",
    "def roman_to_int3(s):\n",
    "    a = {'I':1, 'V':5, 'X': 10, 'L':50, 'C':100, 'D':500, 'M':1000}\n",
    "    ret = 0\n",
    "    temp = 1000\n",
    "    for roman in s:\n",
    "        ret += a[roman]\n",
    "        if temp<a[roman]:\n",
    "            ret -= 2*temp\n",
    "        temp = a[roman]\n",
    "    return ret\n",
    "print(roman_to_int3('MCMXCVI'))"
   ]
  },
  {
   "cell_type": "code",
   "execution_count": 45,
   "metadata": {},
   "outputs": [
    {
     "name": "stdout",
     "output_type": "stream",
     "text": [
      "1996\n"
     ]
    }
   ],
   "source": [
    "#  如果是直接从左到右的话，没法用一个ret直接 += -= 不过从右向左的话，可以直接用一个ret+或—  \n",
    "#  上面的代码是直接坐到右 全加再减  ， 比这个速度快很多（估计是因为逆序）\n",
    "def roman_to_int(s):\n",
    "    a = {'I':1, 'V':5, 'X': 10, 'L':50, 'C':100, 'D':500, 'M':1000}\n",
    "    ret = 0\n",
    "    temp = 0\n",
    "    for roman in s[::-1]:\n",
    "        if temp<a[roman]:\n",
    "            ret += a[roman]\n",
    "        else:\n",
    "            ret -= a[roman]\n",
    "        temp = a[roman]\n",
    "    return ret\n",
    "print(roman_to_int('MCMXCVI'))"
   ]
  },
  {
   "cell_type": "code",
   "execution_count": 21,
   "metadata": {},
   "outputs": [
    {
     "name": "stdout",
     "output_type": "stream",
     "text": [
      "\n",
      "\n",
      "a\n",
      "a\n",
      "ab\n",
      "ab\n"
     ]
    }
   ],
   "source": [
    "#14. Longest Common Prefix\n",
    "def longest_com_prefix(strs):\n",
    "    if not strs:\n",
    "        return ''\n",
    "    else:\n",
    "        ret = ''\n",
    "        for i in range(len(strs[0])):   # 0, 1, 2\n",
    "            for j in range(len(strs)): # 0, 1\n",
    "                if i >= len(strs[j]) or strs[j][i] != strs[0][i]:\n",
    "                    return ret\n",
    "                print(ret)\n",
    "            ret += strs[0][i]\n",
    "        return ret\n",
    "print(longest_com_prefix(['abc','ab']))"
   ]
  },
  {
   "cell_type": "code",
   "execution_count": 26,
   "metadata": {},
   "outputs": [
    {
     "name": "stdout",
     "output_type": "stream",
     "text": [
      "['ab', 'abc']\n",
      "ab\n"
     ]
    }
   ],
   "source": [
    "def longestCommonPrefix2(strs):\n",
    "    \"\"\"\n",
    "    :type strs: List[str]\n",
    "    :rtype: str\n",
    "    \"\"\"\n",
    "    if not strs:\n",
    "        return ''\n",
    "    strs.sort()\n",
    "    print(strs)\n",
    "    res = ''\n",
    "    for i in range(len(strs[0])):\n",
    "        if i >= len(strs[-1]) or strs[-1][i] != strs[0][i]:\n",
    "            return res\n",
    "        res += strs[0][i]\n",
    "    return res\n",
    "print(longestCommonPrefix2(['abc', 'ab']))"
   ]
  },
  {
   "cell_type": "code",
   "execution_count": 29,
   "metadata": {},
   "outputs": [
    {
     "data": {
      "text/plain": [
       "['a', 'abafd', 'abc', 'acef', 'adfs']"
      ]
     },
     "execution_count": 29,
     "metadata": {},
     "output_type": "execute_result"
    }
   ],
   "source": [
    "a = ['abafd', 'abc', 'acef', 'adfs','a']\n",
    "a.sort()\n",
    "a"
   ]
  },
  {
   "cell_type": "code",
   "execution_count": 36,
   "metadata": {},
   "outputs": [
    {
     "name": "stdout",
     "output_type": "stream",
     "text": [
      "True\n"
     ]
    }
   ],
   "source": [
    "#20. Valid Parentheses  这个只能判断 挨着括号的，不能判断括号里面括号的\n",
    "#([()()])  ()[]\n",
    "def valid_para(s):\n",
    "    a = ['()', '[]', '{}']\n",
    "    if len(s) % 2 != 0:\n",
    "        return False\n",
    "    for i in range(0, len(s), 2):\n",
    "        temp = s[i] + s[i+1]\n",
    "        if temp not in a:\n",
    "            return False\n",
    "    return True\n",
    "print(valid_para('()'))"
   ]
  },
  {
   "cell_type": "code",
   "execution_count": 64,
   "metadata": {},
   "outputs": [
    {
     "name": "stdout",
     "output_type": "stream",
     "text": [
      "(\n",
      ")\n",
      "True\n"
     ]
    }
   ],
   "source": [
    "def valid_para2(s):\n",
    "    if len(s) % 2 != 0:\n",
    "        print('1')\n",
    "        return False\n",
    "    if s[0] == ')' or s[0]== '}' or s[0]==']':\n",
    "        print(s[0])\n",
    "        print('2')\n",
    "        return False\n",
    "    if s[-1] == '(' or s[-1]=='{' or s[-1]=='[':\n",
    "        print('3')\n",
    "        return False\n",
    "    for i,j in enumerate(s):\n",
    "        print(j)\n",
    "        if j == '(':\n",
    "            if s[i+1] != ')' and s[len(s)-i-1] != ')':\n",
    "                return False\n",
    "        if j == '[':\n",
    "            if s[i+1] != ']' and s[len(s)-i-1] != ']':\n",
    "                return False\n",
    "        if j == '{':\n",
    "            if s[i+1] != '}' and s[len(s)-i-1] != '}':\n",
    "                return False\n",
    "    return True\n",
    "\n",
    "print(valid_para2('()'))"
   ]
  },
  {
   "cell_type": "code",
   "execution_count": 86,
   "metadata": {},
   "outputs": [
    {
     "name": "stdout",
     "output_type": "stream",
     "text": [
      "['(']\n",
      "['(', '{']\n",
      "['(']\n",
      "[]\n",
      "True\n"
     ]
    }
   ],
   "source": [
    "def isValid(s):\n",
    "    \"\"\"\n",
    "    :type s: str\n",
    "    :rtype: bool\n",
    "    \"\"\"\n",
    "    pars = []\n",
    "    parmap = {')': '(', '}': '{', ']': '['}\n",
    "    for c in s:\n",
    "        if c in parmap and parmap[c] == pars[-1]:\n",
    "            pars.pop()\n",
    "        else:\n",
    "            pars.append(c)\n",
    "        print(pars)\n",
    "    return len(pars) == 0\n",
    "print(isValid('({})'))"
   ]
  },
  {
   "cell_type": "code",
   "execution_count": 67,
   "metadata": {},
   "outputs": [
    {
     "data": {
      "text/plain": [
       "1"
      ]
     },
     "execution_count": 67,
     "metadata": {},
     "output_type": "execute_result"
    }
   ],
   "source": [
    "a = [None]\n",
    "len(a)"
   ]
  },
  {
   "cell_type": "code",
   "execution_count": 94,
   "metadata": {},
   "outputs": [
    {
     "name": "stdout",
     "output_type": "stream",
     "text": [
      "True\n"
     ]
    }
   ],
   "source": [
    "#栈 应用的一个例子  先进后出 \n",
    "def is_valid(s):\n",
    "    a = {')':'(', ']':'[', '}':'{'}\n",
    "    l = [None]\n",
    "    for i in s:\n",
    "        if i in a and a[i] == l[-1]:\n",
    "            l.pop()\n",
    "        else:\n",
    "            l.append(i)\n",
    "#         print(l)\n",
    "    return len(l)==1\n",
    "print(is_valid('()[]{}'))"
   ]
  },
  {
   "cell_type": "code",
   "execution_count": 101,
   "metadata": {
    "collapsed": true
   },
   "outputs": [],
   "source": [
    "l1 = [1,1]\n",
    "l2 = [2,2]\n",
    "type(l1)\n",
    "l1.extend(l2)\n"
   ]
  },
  {
   "cell_type": "code",
   "execution_count": 110,
   "metadata": {},
   "outputs": [
    {
     "name": "stdout",
     "output_type": "stream",
     "text": [
      "[1, 2, 4]\n",
      "[1, 3, 4]\n",
      "[1, 2, 4]\n",
      "<__main__.ListNode object at 0x000001E3FB297D68>\n"
     ]
    }
   ],
   "source": [
    "class ListNode(object):\n",
    "    def __init__(self, x):\n",
    "        self.val = x\n",
    "        self.next = None\n",
    "\n",
    "class Solution(object):\n",
    "    def mergeTwoLists(self, l1, l2):\n",
    "        \"\"\"\n",
    "        :type l1: ListNode\n",
    "        :type l2: ListNode\n",
    "        :rtype: ListNode\n",
    "        \"\"\"\n",
    "        if not l1 or not l2:\n",
    "            return l1 or l2\n",
    "        head = cur = ListNode(0)\n",
    "        while l1 and l2:\n",
    "            print(l1.val)\n",
    "            print(l2.val)\n",
    "            if l1.val < l2.val:\n",
    "                cur.next = l1\n",
    "                l1 = l1.next\n",
    "            else:\n",
    "                cur.next = l2\n",
    "                l2 = l2.next\n",
    "            cur = cur.next\n",
    "        cur.next = l1 or l2\n",
    "        return head.next\n",
    "l1 = ListNode([1,2,4])\n",
    "l2 = ListNode([1,3,4])\n",
    "sol = Solution()\n",
    "a = sol.mergeTwoLists(l1, l2)\n",
    "print(a.val)\n",
    "print(a.next)"
   ]
  },
  {
   "cell_type": "code",
   "execution_count": 169,
   "metadata": {},
   "outputs": [
    {
     "name": "stdout",
     "output_type": "stream",
     "text": [
      "0\n"
     ]
    }
   ],
   "source": [
    "#28. Implement strStr()  haystack = \"hello\", needle = \"ll\" return 2\n",
    "def find_index(haystack, needle):\n",
    "    save = 0\n",
    "    if not needle:\n",
    "        return 0\n",
    "    if not needle or len(haystack)<len(needle):\n",
    "        return -1\n",
    "    for i, j in enumerate(haystack):\n",
    "        k = 0\n",
    "        if j == needle[0]:\n",
    "            print('i='+str(i))\n",
    "            save = i\n",
    "            q = i\n",
    "#             print(k)\n",
    "#         else:\n",
    "            print('haystack='+str(haystack[q]))\n",
    "            print('needle='+str(needle[k]))\n",
    "            while k <= len(needle) - 1 and q<=len(haystack)-1 and haystack[q] == needle[k]:\n",
    "                print(k)\n",
    "                print(q)\n",
    "                k += 1\n",
    "                q += 1\n",
    "        print('k='+str(k))\n",
    "#         print(len(needle))\n",
    "        if k == len(needle):\n",
    "            return save\n",
    "    return -1\n",
    "#     print('k='+str(k))\n",
    "#     print(len(needle))\n",
    "#     if k == len(needle):\n",
    "#         return save\n",
    "#     else:\n",
    "#         return -1\n",
    "print(find_index('', ''))"
   ]
  },
  {
   "cell_type": "code",
   "execution_count": 170,
   "metadata": {},
   "outputs": [
    {
     "name": "stdout",
     "output_type": "stream",
     "text": [
      "0\n"
     ]
    }
   ],
   "source": [
    "def strStr(haystack, needle):  #思路和我的一样，比我的写的更好，  比较两个数组用最好用range，不用遍历，\n",
    "     #　思路是　　先判断如果后面的字符串是０就直接，返回０，　如果不是　就先找到第一个相对应的，再判断后面的\n",
    "    \"\"\"　＃其实就是　　ｓｔｒ．ｆｉｎｄ\n",
    "    :type haystack: str\n",
    "    :type needle: str\n",
    "    :rtype: int\n",
    "    \"\"\"\n",
    "    if not needle:\n",
    "        return 0\n",
    "    for i in range(len(haystack) - len(needle) + 1):\n",
    "        if haystack[i] == needle[0]:\n",
    "            j = 1\n",
    "            while j < len(needle) and haystack[i+j] == needle[j]:\n",
    "                j += 1\n",
    "            if j == len(needle):\n",
    "                return i\n",
    "    return -1\n",
    "print(strStr('a', '')) #\"mississippi\"   \"issipi\""
   ]
  },
  {
   "cell_type": "code",
   "execution_count": 4,
   "metadata": {},
   "outputs": [
    {
     "name": "stdout",
     "output_type": "stream",
     "text": [
      "1\n",
      "11\n",
      "21\n",
      "1211\n",
      "111221\n"
     ]
    }
   ],
   "source": [
    "# 1  11  21  1211  111221  312211\n",
    "#跟前一个数有关系  递归问题\n",
    "#要用到三个循环，最外层是生成第几个序列；中间层用于遍历一个序列；最内层找出连续相同的几个数字。\n",
    "def countAndSay(n):\n",
    "    \"\"\"\n",
    "    :type n: int\n",
    "    :rtype: str\n",
    "    \"\"\"\n",
    "    res = '1'\n",
    "    for i in range(n-1):\n",
    "        new_res = ''\n",
    "        j = 0\n",
    "        while j < len(res):\n",
    "            count = 1\n",
    "            while j < len(res)-1 and res[j] == res[j+1]:\n",
    "                j = j + 1\n",
    "                count = count + 1\n",
    "            j = j + 1\n",
    "            new_res = new_res + str(count) + res[j-1]\n",
    "        print(res)\n",
    "        res = new_res\n",
    "    return res\n",
    "print(countAndSay(5))"
   ]
  },
  {
   "cell_type": "code",
   "execution_count": 7,
   "metadata": {},
   "outputs": [
    {
     "name": "stdout",
     "output_type": "stream",
     "text": [
      "111221\n"
     ]
    }
   ],
   "source": [
    "def countAndSay2(n):\n",
    "    \"\"\"\n",
    "    :type n: int\n",
    "    :rtype: str\n",
    "    \"\"\"\n",
    "    res = '1'\n",
    "    for i in range(n-1):\n",
    "        new_res, pre, count = '', res[0], 0\n",
    "        for j in range(len(res)):\n",
    "            if res[j] == pre:\n",
    "                count += 1\n",
    "            else:\n",
    "                new_res += str(count) + pre\n",
    "                count = 1\n",
    "                pre = res[j]\n",
    "        res = new_res + str(count) + pre\n",
    "    return res\n",
    "print(countAndSay2(5))"
   ]
  },
  {
   "cell_type": "code",
   "execution_count": 23,
   "metadata": {},
   "outputs": [
    {
     "name": "stdout",
     "output_type": "stream",
     "text": [
      "0 a\n",
      "1\n"
     ]
    }
   ],
   "source": [
    "# 58  length of last word\n",
    "def lengthOfLastWord(s):\n",
    "    \"\"\"\n",
    "    :type s: str\n",
    "    :rtype: int\n",
    "    \"\"\"\n",
    "    s = s.rstrip()\n",
    "    if not s:\n",
    "        return 0\n",
    "    for i, j in enumerate(s[::-1]):\n",
    "        print(i, j)\n",
    "        if j == ' ':\n",
    "            return i\n",
    "    return len(s)\n",
    "print(lengthOfLastWord('a '))"
   ]
  },
  {
   "cell_type": "code",
   "execution_count": 22,
   "metadata": {},
   "outputs": [
    {
     "data": {
      "text/plain": [
       "'a'"
      ]
     },
     "execution_count": 22,
     "metadata": {},
     "output_type": "execute_result"
    }
   ],
   "source": [
    "'a '.rstrip()"
   ]
  },
  {
   "cell_type": "code",
   "execution_count": 27,
   "metadata": {},
   "outputs": [
    {
     "name": "stdout",
     "output_type": "stream",
     "text": [
      "7\n",
      "2\n"
     ]
    }
   ],
   "source": [
    "def lengthOfLastWord(s):\n",
    "    \"\"\"\n",
    "    :type s: str\n",
    "    :rtype: int\n",
    "    \"\"\"\n",
    "    length, j = 0, len(s)-1\n",
    "    while j>=0:\n",
    "        if s[j] != ' ':\n",
    "            break\n",
    "        j = j - 1\n",
    "    print(j)  #输出了不是空格字符的个数，用索引直接 找到了最后一个非空格字符 往前数  str.rstrip()效果一样\n",
    "    for i in range(j, -1, -1):\n",
    "        if s[i] == ' ':\n",
    "            return length\n",
    "        length = length + 1\n",
    "    return length\n",
    "print(lengthOfLastWord('aaadf bb '))"
   ]
  },
  {
   "cell_type": "code",
   "execution_count": 28,
   "metadata": {
    "collapsed": true
   },
   "outputs": [],
   "source": [
    "#83 链表题\n",
    "# Definition for singly-linked list.\n",
    "# class ListNode(object):\n",
    "#     def __init__(self, x):\n",
    "#         self.val = x\n",
    "#         self.next = None\n",
    "\n",
    "class Solution(object):\n",
    "    def deleteDuplicates(self, head):\n",
    "        \"\"\"\n",
    "        :type head: ListNode\n",
    "        :rtype: ListNode\n",
    "        \"\"\"\n",
    "        p = head\n",
    "        while p:\n",
    "            if p.next and p.next.val == p.val:\n",
    "                p.next = p.next.next\n",
    "            else:\n",
    "                p = p.next\n",
    "        return head"
   ]
  },
  {
   "cell_type": "code",
   "execution_count": 38,
   "metadata": {},
   "outputs": [
    {
     "name": "stdout",
     "output_type": "stream",
     "text": [
      "1 1\n",
      "1 2\n",
      "2 3\n",
      "3 5\n",
      "5 8\n",
      "8\n"
     ]
    }
   ],
   "source": [
    "#70 climb stairs 方法数  斐波那契数列\n",
    "def climb_stairs(n):\n",
    "    a = 0\n",
    "    b = 1\n",
    "    for i in range(n):\n",
    "        a, b = b, a+b\n",
    "        print(a, b)\n",
    "#         a = b\n",
    "#         b = a + b\n",
    "    return b\n",
    "print(climb_stairs(5))"
   ]
  },
  {
   "cell_type": "code",
   "execution_count": 53,
   "metadata": {},
   "outputs": [
    {
     "name": "stdout",
     "output_type": "stream",
     "text": [
      "[2, 1]\n",
      "None\n"
     ]
    }
   ],
   "source": [
    "# 189\n",
    "def rotate(nums, k):\n",
    "    \"\"\"\n",
    "    :type nums: List[int]\n",
    "    :type k: int\n",
    "    :rtype: void Do not return anything, modify nums in-place instead.\n",
    "    \"\"\"\n",
    "#     print(nums[len(nums)-k:])\n",
    "#     nums = nums[len(nums)-k:] + nums[:len(nums)-k]\n",
    "    nums[:k], nums[k:] = nums[len(nums)-k:] , nums[:len(nums)-k]\n",
    "    print(nums)\n",
    "print(rotate([1,2], 1))"
   ]
  },
  {
   "cell_type": "code",
   "execution_count": 58,
   "metadata": {},
   "outputs": [
    {
     "name": "stdout",
     "output_type": "stream",
     "text": [
      "[1, 1, 1, 2, 1]\n",
      "[1, 1, 1, 2, 1]\n",
      "[1, 2, 1, 2, 1]\n",
      "[1, 2, 1, 2, 1]\n",
      "[1, 2, 1, 2, 1]\n",
      "3\n"
     ]
    }
   ],
   "source": [
    "def removeDuplicates(nums):\n",
    "    \"\"\"\n",
    "    :type nums: List[int]\n",
    "    :rtype: int\n",
    "    \"\"\"\n",
    "    if len(nums)==0:\n",
    "        return 0\n",
    "    cur = 0\n",
    "    for i in range(1, len(nums)):\n",
    "        if nums[i] != nums[cur]:\n",
    "            cur += 1\n",
    "            nums[cur] = nums[i]\n",
    "        print(nums)\n",
    "    print(nums)\n",
    "    return cur+1\n",
    "print(removeDuplicates([1,1,1, 2, 1]))"
   ]
  },
  {
   "cell_type": "code",
   "execution_count": 78,
   "metadata": {},
   "outputs": [
    {
     "data": {
      "text/plain": [
       "4"
      ]
     },
     "execution_count": 78,
     "metadata": {},
     "output_type": "execute_result"
    }
   ],
   "source": [
    "#485. Max Consecutive Ones\n",
    "def findMaxConsecutiveOnes(nums):\n",
    "    \"\"\"\n",
    "    :type nums: List[int]\n",
    "    :rtype: int\n",
    "    \"\"\"\n",
    "    cur = 0\n",
    "    max_value = 0\n",
    "    for i in nums:\n",
    "        if i == 1:\n",
    "            cur += 1\n",
    "            max_value = max(cur, max_value)\n",
    "        else:\n",
    "            cur = 0\n",
    "    return max_value\n",
    "findMaxConsecutiveOnes([1,1,1,0,11,1,1,12,3,23,123,123,1,1,1,1])"
   ]
  },
  {
   "cell_type": "code",
   "execution_count": 79,
   "metadata": {},
   "outputs": [
    {
     "data": {
      "text/plain": [
       "24"
      ]
     },
     "execution_count": 79,
     "metadata": {},
     "output_type": "execute_result"
    }
   ],
   "source": [
    "# 628. Maximum Product of Three Numbers\n",
    "# -4, -3, -2, -1\n",
    "def find_max_prod(nums):\n",
    "    nums.sort()\n",
    "    a = nums[-1] * nums[-2] * nums[-3]\n",
    "    b = nums[0] * nums[1] * nums[-1]\n",
    "    return max(a, b)\n",
    "find_max_prod([1,2,3,4])"
   ]
  },
  {
   "cell_type": "code",
   "execution_count": 32,
   "metadata": {},
   "outputs": [
    {
     "name": "stdout",
     "output_type": "stream",
     "text": [
      "2\n"
     ]
    },
    {
     "data": {
      "text/plain": [
       "False"
      ]
     },
     "execution_count": 32,
     "metadata": {},
     "output_type": "execute_result"
    }
   ],
   "source": [
    "#605. Can Place Flowers\n",
    "# 主要程序思想是 遇到三个连0 就计数器加1， 存在的问题1 是开头和结尾 需要特殊判断 00开头和结尾的需要加1\n",
    "#因为边界两个0 就可以， 问题2 (0), (0,0), (0,0,0) (0,0,0,0), (0,0,0,0,0) 都比较特殊\n",
    "def flowers(flowerbed, n):\n",
    "    if n == 1:\n",
    "        if flowerbed == [0] or flowerbed==[0, 0]:\n",
    "            return True\n",
    "    count = 0\n",
    "    count2 = 0\n",
    "    for i in flowerbed:\n",
    "        if i == 0:\n",
    "            count += 1\n",
    "        if count == 3:\n",
    "            count2 += 1\n",
    "            count = 1\n",
    "        if i != 0:\n",
    "            count = 0\n",
    "    if len(flowerbed)>2 and flowerbed[:2] == [0, 0]:\n",
    "        count2 += 1\n",
    "    if len(flowerbed)>2 and flowerbed[-2:] == [0, 0]:\n",
    "        count2 += 1\n",
    "    if flowerbed == [0, 0, 0, 0] or flowerbed == [0, 0, 0, 0,0] or [0, 0, 0]:\n",
    "        count2 -= 1\n",
    "    print(count2)\n",
    "    return count2 >= n\n",
    "flowers([0,0,0], 3) #[0,0,0,0]"
   ]
  },
  {
   "cell_type": "code",
   "execution_count": 38,
   "metadata": {},
   "outputs": [
    {
     "name": "stdout",
     "output_type": "stream",
     "text": [
      "[2, 51, 42]\n"
     ]
    },
    {
     "data": {
      "text/plain": [
       "12.75"
      ]
     },
     "execution_count": 38,
     "metadata": {},
     "output_type": "execute_result"
    }
   ],
   "source": [
    "#643. Maximum Average Subarray I    #超时\n",
    "def max_aver_sub(nums, k):\n",
    "    max_value = nums[0]\n",
    "    cur_value = 0\n",
    "    a = []\n",
    "    for i in range(len(nums)-k+1):\n",
    "        cur_value = sum(nums[i:i+k])\n",
    "        a.append(cur_value)\n",
    "    print(a)\n",
    "    return max(a)/k\n",
    "max_aver_sub([1,12,-5,-6,50,3], k = 4)"
   ]
  },
  {
   "cell_type": "code",
   "execution_count": 39,
   "metadata": {},
   "outputs": [
    {
     "data": {
      "text/plain": [
       "12.75"
      ]
     },
     "execution_count": 39,
     "metadata": {},
     "output_type": "execute_result"
    }
   ],
   "source": [
    "def findMaxAverage(nums, k):\n",
    "    \"\"\"\n",
    "    :type nums: List[int]\n",
    "    :type k: int\n",
    "    :rtype: float\n",
    "    \"\"\"\n",
    "    res = sum(nums[0:k]) \n",
    "    tmp = res\n",
    "    n = len(nums)\n",
    "    for i in range(k,n):\n",
    "        tmp = tmp - nums[i -k] + nums[i]  #每次都迭代使用了上次计算的值，只需要再加一个和减一个，\n",
    "        res = max(res, tmp)               #我的（上面）是全部计算\n",
    "\n",
    "    return res / ( k + 0.0)\n",
    "findMaxAverage([1,12,-5,-6,50,3], k = 4)"
   ]
  },
  {
   "cell_type": "code",
   "execution_count": 45,
   "metadata": {},
   "outputs": [
    {
     "name": "stdout",
     "output_type": "stream",
     "text": [
      "0\n",
      "[-1, 4, 2, 3]\n",
      "1\n",
      "[-1, 2, 2, 3]\n",
      "2\n",
      "[-1, 2, 2, 3]\n"
     ]
    },
    {
     "data": {
      "text/plain": [
       "True"
      ]
     },
     "execution_count": 45,
     "metadata": {},
     "output_type": "execute_result"
    }
   ],
   "source": [
    "#665. Non-decreasing Array  #[3,4,2,3]  #[1,3,5]\n",
    "def checkPossibility4(nums):\n",
    "    \"\"\"\n",
    "    :type nums: List[int]\n",
    "    :rtype: bool\n",
    "    \"\"\"\n",
    "    counter = 0\n",
    "    for i in range(len(nums)-1):\n",
    "        print(i)\n",
    "        if nums[i+1] < nums[i]:\n",
    "            counter += 1\n",
    "            if i == 0 or nums[i+1] >= nums[i-1]:# 分两种情况 1优先改第一个数 2可以的话，优先 大改小\n",
    "                nums[i] = nums[i+1]\n",
    "            else:\n",
    "                nums[i+1] = nums[i]\n",
    "            if counter > 1:\n",
    "                return False\n",
    "        print(nums)\n",
    "    return True\n",
    "checkPossibility4([-1, 4, 2, 3])"
   ]
  },
  {
   "cell_type": "code",
   "execution_count": 62,
   "metadata": {},
   "outputs": [
    {
     "data": {
      "text/plain": [
       "4"
      ]
     },
     "execution_count": 62,
     "metadata": {},
     "output_type": "execute_result"
    }
   ],
   "source": [
    "#674. Longest Continuous Increasing Subsequence\n",
    "def long_con_in(nums):\n",
    "    counter1 = 1\n",
    "    counter2 = 1\n",
    "    for i in range(len(nums)-1):\n",
    "        if nums[i+1] > nums[i]:\n",
    "            counter1 += 1\n",
    "#             print(counter1)\n",
    "        else:\n",
    "            counter1 = 1\n",
    "        counter2 = max(counter2, counter1)\n",
    "#         print(counter2)\n",
    "    return counter2\n",
    "long_con_in([1,3,5,4,2,3,4,5])"
   ]
  },
  {
   "cell_type": "code",
   "execution_count": 73,
   "metadata": {},
   "outputs": [
    {
     "name": "stdout",
     "output_type": "stream",
     "text": [
      "[2, 3, 3, 5, 6, 1, 3, 2]\n",
      "[0, 3, 2, 0, 3, 2, 0, 4, 5, 3, 3, 0, 0]\n"
     ]
    },
    {
     "data": {
      "text/plain": [
       "6"
      ]
     },
     "execution_count": 73,
     "metadata": {},
     "output_type": "execute_result"
    }
   ],
   "source": [
    "#695. Max Area of Island  #题意理解错了 想的太简单了，以为是找行列中最多的1.  其实是找挨着的最多的1\n",
    "def max_area(grid):\n",
    "    if not grid:\n",
    "        return 0\n",
    "    raw = len(grid)\n",
    "    column = len(grid[0])\n",
    "    counter1, counter2 = 0, 0\n",
    "    counter = []\n",
    "    counter_list = []\n",
    "    for i in range(raw):\n",
    "        counter1 = 0\n",
    "        for j in range(column):\n",
    "            if grid[i][j] == 1:\n",
    "                counter1 += 1\n",
    "                if grid[i+1][j] == 1:\n",
    "                    counter1 += 1\n",
    "                    if \n",
    "        counter.append(counter1)\n",
    "    for i in range(column):\n",
    "        counter2 = 0\n",
    "        for j in range(raw):\n",
    "            if grid[j][i] == 1:\n",
    "                counter2 += 1\n",
    "        counter_list.append(counter2)\n",
    "    print(counter)\n",
    "    print(counter_list)\n",
    "    return max(max(counter), max(counter_list))\n",
    "max_area([[0,0,1,0,0,0,0,1,0,0,0,0,0],\n",
    " [0,0,0,0,0,0,0,1,1,1,0,0,0],\n",
    " [0,1,1,0,1,0,0,0,0,0,0,0,0],\n",
    " [0,1,0,0,1,1,0,0,1,0,1,0,0],\n",
    " [0,1,0,0,1,1,0,0,1,1,1,0,0],\n",
    " [0,0,0,0,0,0,0,0,0,0,1,0,0],\n",
    " [0,0,0,0,0,0,0,1,1,1,0,0,0],\n",
    " [0,0,0,0,0,0,0,1,1,0,0,0,0]])\n"
   ]
  },
  {
   "cell_type": "code",
   "execution_count": 11,
   "metadata": {},
   "outputs": [
    {
     "name": "stdout",
     "output_type": "stream",
     "text": [
      "各值出现的次数 字典是{1: 2, 2: 2, 3: 1, 4: 1, 5: 2}\n"
     ]
    },
    {
     "data": {
      "text/plain": [
       "[3, 4]"
      ]
     },
     "execution_count": 11,
     "metadata": {},
     "output_type": "execute_result"
    }
   ],
   "source": [
    "def find_single(nums):  #不是leetcode上的 随便写的\n",
    "    a = {}\n",
    "    ret = []\n",
    "    for j in nums:\n",
    "        if j in a:\n",
    "            a[j] += 1\n",
    "        else:\n",
    "            a[j] = 1\n",
    "    print('各值出现的次数 字典是'+str(a))\n",
    "    for i, j in a.items():\n",
    "        if j % 2 == 1:\n",
    "            ret.append(i)\n",
    "    return ret\n",
    "find_single([1, 1, 2, 2, 3, 4, 5, 5])"
   ]
  },
  {
   "cell_type": "code",
   "execution_count": 19,
   "metadata": {},
   "outputs": [
    {
     "name": "stdout",
     "output_type": "stream",
     "text": [
      "2\n",
      "2\n",
      "1\n"
     ]
    },
    {
     "data": {
      "text/plain": [
       "3"
      ]
     },
     "execution_count": 19,
     "metadata": {},
     "output_type": "execute_result"
    }
   ],
   "source": [
    "def findShortestSubArray(nums):\n",
    "    \"\"\"\n",
    "    :type nums: List[int]\n",
    "    :rtype: int\n",
    "    \"\"\"\n",
    "    a = {}\n",
    "    for i in nums:\n",
    "        if i in a:\n",
    "            a[i] += 1\n",
    "        else:\n",
    "            a[i] = 1\n",
    "    print(a.get(2))\n",
    "    max_value = 0\n",
    "    for i, j in a.items():\n",
    "        if j > max_value:\n",
    "            max_value = j\n",
    "            c = i\n",
    "    print(max_value)\n",
    "    print(c)\n",
    "    start = 0\n",
    "    end = len(nums)-1\n",
    "    for i, j in enumerate(nums):\n",
    "        if j == max_value:\n",
    "            start = i\n",
    "            end = i\n",
    "        start = min(start, i)\n",
    "        end = max(end, i)\n",
    "    return end - start + 1\n",
    "findShortestSubArray([1, 2, 2, 3, 1])"
   ]
  },
  {
   "cell_type": "code",
   "execution_count": 28,
   "metadata": {},
   "outputs": [
    {
     "name": "stdout",
     "output_type": "stream",
     "text": [
      "defaultdict(<class 'int'>, {1: 1})\n",
      "defaultdict(<class 'int'>, {1: 1, 2: 1})\n",
      "defaultdict(<class 'int'>, {1: 1, 2: 2})\n",
      "defaultdict(<class 'int'>, {1: 1, 2: 3})\n",
      "defaultdict(<class 'int'>, {1: 1, 2: 3, 3: 1})\n",
      "defaultdict(<class 'int'>, {1: 1, 2: 3, 3: 2})\n",
      "defaultdict(<class 'int'>, {1: 1, 2: 3, 3: 2, 4: 1})\n",
      "defaultdict(<class 'int'>, {1: 1, 2: 3, 3: 2, 4: 1, 5: 1})\n",
      "defaultdict(<class 'int'>, {1: 1, 2: 3, 3: 3, 4: 1, 5: 1})\n",
      "defaultdict(<class 'int'>, {1: 1, 2: 3, 3: 4, 4: 1, 5: 1})\n",
      "defaultdict(<class 'int'>, {1: 1, 2: 3, 3: 5, 4: 1, 5: 1})\n",
      "{1: 0, 2: 3, 3: 10, 4: 6, 5: 7}\n",
      "{1: 0, 2: 1, 3: 4, 4: 6, 5: 7}\n",
      "defaultdict(<class 'int'>, {1: 1, 2: 3, 3: 5, 4: 1, 5: 1})\n"
     ]
    },
    {
     "data": {
      "text/plain": [
       "7"
      ]
     },
     "execution_count": 28,
     "metadata": {},
     "output_type": "execute_result"
    }
   ],
   "source": [
    "def findShortestSubArray2(nums):\n",
    "    \"\"\"\n",
    "    :type nums: List[int]\n",
    "    :rtype: int\n",
    "    \"\"\"\n",
    "    import collections\n",
    "    mins = {}\n",
    "    maxs = {}\n",
    "    cnts = collections.defaultdict(int)\n",
    "#     cnts = {}\n",
    "    for idx, num in enumerate(nums):\n",
    "        maxs[num] = max(maxs.get(num, -1), idx)\n",
    "        mins[num] = min(mins.get(num, 0x7FFFFFFF), idx)\n",
    "        cnts[num] += 1\n",
    "        print(cnts)\n",
    "    print(maxs)\n",
    "    print(mins)\n",
    "    print(cnts)\n",
    "    degree = max(cnts.values())\n",
    "    ans = len(nums)\n",
    "    for num in set(nums):\n",
    "        if cnts[num] == degree:\n",
    "            ans = min(ans, maxs[num] - mins[num] + 1)\n",
    "    return ans\n",
    "findShortestSubArray2([1, 2, 2, 2, 3,3,4,5,3,3,3])"
   ]
  },
  {
   "cell_type": "code",
   "execution_count": 20,
   "metadata": {
    "collapsed": true
   },
   "outputs": [],
   "source": [
    "def findShortestSubArray3(nums):\n",
    "    \"\"\"\n",
    "    :type nums: List[int]\n",
    "    :rtype: int\n",
    "    \"\"\"\n",
    "    min_dict = {}\n",
    "    max_dict = {}\n",
    "    nums_dict = {}\n",
    "    for i, j in enumerate(nums):\n",
    "        if j in nums_dict.keys():\n",
    "            nums_dict[j] += 1\n",
    "            max_dict[j] = max(max_dict[j], i)\n",
    "            min_dict[j] = min(min_dict[j], i)\n",
    "\n",
    "        else:\n",
    "            nums_dict[j] = 1\n",
    "            max_dict[j] = i\n",
    "            min_dict[j] = i\n",
    "    degree = max(nums_dict.values())\n",
    "    ans = len(nums)\n",
    "    for i in set(nums):\n",
    "        if nums_dict[i] == degree:\n",
    "            ans = min(ans, max_dict[i] - min_dict[i] + 1)\n",
    "    return ans\n",
    "findShortestSubArray3([1, 2, 2, 2, 3,3,4,5,3,3,3])"
   ]
  },
  {
   "cell_type": "code",
   "execution_count": 22,
   "metadata": {},
   "outputs": [
    {
     "data": {
      "text/plain": [
       "-1"
      ]
     },
     "execution_count": 22,
     "metadata": {},
     "output_type": "execute_result"
    }
   ],
   "source": [
    "#717. 1-bit and 2-bit Characters\n",
    "#01序列由三种成分构成：10, 11, 0\n",
    "#求序列经过解析后，最后一个成分是否为0\n",
    "#如果指针遍历中 能指到最后一个0， 返回True 不能则False\n",
    "def isOneBitCharacter(bits):\n",
    "    \"\"\"\n",
    "    :type bits: List[int]\n",
    "    :rtype: bool\n",
    "    \"\"\"\n",
    "    i = 0\n",
    "    while i < len(bits):\n",
    "        if i == len(bits) - 1:\n",
    "            return True\n",
    "        if bits[i] == 1:\n",
    "            i += 2\n",
    "        else:\n",
    "            i += 1\n",
    "    return False"
   ]
  },
  {
   "cell_type": "code",
   "execution_count": 11,
   "metadata": {},
   "outputs": [
    {
     "data": {
      "text/plain": [
       "-1"
      ]
     },
     "execution_count": 11,
     "metadata": {},
     "output_type": "execute_result"
    }
   ],
   "source": [
    "#724. Find Pivot Index  失败， 超时，\n",
    "def pivotIndex(nums):\n",
    "    if not nums:\n",
    "        return -1\n",
    "    for i in range(0, len(nums)):#切片超范围不会出错，取0， 直接索引会出错\n",
    "        a = sum(nums[:i])  #每次都重新加  超时\n",
    "        b = sum(nums[i+1:])\n",
    "        if a == b:\n",
    "            return i\n",
    "    return -1\n",
    "pivotIndex([-1,-1,-1,-1,-1,-1])"
   ]
  },
  {
   "cell_type": "code",
   "execution_count": 14,
   "metadata": {},
   "outputs": [
    {
     "data": {
      "text/plain": [
       "-1"
      ]
     },
     "execution_count": 14,
     "metadata": {},
     "output_type": "execute_result"
    }
   ],
   "source": [
    "#724. Find Pivot Index  通过\n",
    "def pivotIndex2(nums):\n",
    "    if not nums:\n",
    "        return -1\n",
    "    left = 0\n",
    "    right = sum(nums[1:])\n",
    "    for i in range(0, len(nums)):#切片超范围不会出错，取0， 直接索引会出错\n",
    "#         print(i)\n",
    "        if left == right:\n",
    "            return i\n",
    "        if i+1 < len(nums):   #每次在原来基础上+1一个数 ，减一个数\n",
    "            left += nums[i]\n",
    "            right -= nums[i+1]\n",
    "    return -1\n",
    "pivotIndex2([-1,-1,0,1,1,0, 1,1])"
   ]
  },
  {
   "cell_type": "code",
   "execution_count": 2,
   "metadata": {},
   "outputs": [
    {
     "name": "stdout",
     "output_type": "stream",
     "text": [
      "[1, 100, 2, 3, 3, 103, 4, 5, 104, 6]\n"
     ]
    },
    {
     "data": {
      "text/plain": [
       "6"
      ]
     },
     "execution_count": 2,
     "metadata": {},
     "output_type": "execute_result"
    }
   ],
   "source": [
    "#746. Min Cost Climbing Stairs\n",
    "def minCostClimbingStairs(cost):\n",
    "    \"\"\"\n",
    "    :type cost: List[int]\n",
    "    :rtype: int\n",
    "    \"\"\"\n",
    "    size = len(cost)\n",
    "    dp = [cost[0], cost[1]]\n",
    "    for x in range(2, size):\n",
    "        dp.append(min(dp[x - 1], dp[x - 2]) + cost[x])\n",
    "    print(dp)\n",
    "    return min(dp[-1], dp[-2])\n",
    "minCostClimbingStairs([1, 100, 1, 1, 1, 100, 1, 1, 100, 1])"
   ]
  },
  {
   "cell_type": "code",
   "execution_count": 38,
   "metadata": {},
   "outputs": [
    {
     "name": "stdout",
     "output_type": "stream",
     "text": [
      "[1, 100, 2, 3, 3, 103, 4, 5, 104, 6]\n"
     ]
    },
    {
     "data": {
      "text/plain": [
       "6"
      ]
     },
     "execution_count": 38,
     "metadata": {},
     "output_type": "execute_result"
    }
   ],
   "source": [
    "#746. Min Cost Climbing Stairs\n",
    "#动态规划问题（迭代）\n",
    "def minCostClimbingStairs2(cost):\n",
    "    dp = [0, 0]\n",
    "    for i in range(2, len(cost)):  #算出每次到达这步 需要的最小cost（没算自己这层的cost，不能直接加\n",
    "        a = min(dp[i-1] + cost[i-1], dp[i-2] + cost[i-2])#下面的for循环里加的， 不然min时会出错）\n",
    "        dp.append(a)\n",
    "    for i in range(len(cost)): \n",
    "        dp[i] += cost[i]\n",
    "    print(dp)\n",
    "    return min(dp[-1], dp[-2])\n",
    "minCostClimbingStairs2([1, 100, 1, 1, 1, 100, 1, 1, 100, 1])"
   ]
  },
  {
   "cell_type": "code",
   "execution_count": 42,
   "metadata": {},
   "outputs": [
    {
     "name": "stdout",
     "output_type": "stream",
     "text": [
      "[1, 100, 2, 3, 3, 103, 4, 5, 104, 6]\n"
     ]
    },
    {
     "data": {
      "text/plain": [
       "6"
      ]
     },
     "execution_count": 42,
     "metadata": {},
     "output_type": "execute_result"
    }
   ],
   "source": [
    "def minCostClimbingStairs2(cost):\n",
    "    dp = [cost[0], cost[1]]\n",
    "    for i in range(2, len(cost)):  #这个是直接加上这次的\n",
    "        a = min(dp[i-1], dp[i-2])+cost[i]\n",
    "        dp.append(a)\n",
    "    print(dp)\n",
    "    return min(dp[-1], dp[-2])\n",
    "minCostClimbingStairs2([1, 100, 1, 1, 1, 100, 1, 1, 100, 1])"
   ]
  },
  {
   "cell_type": "code",
   "execution_count": 63,
   "metadata": {},
   "outputs": [
    {
     "name": "stdout",
     "output_type": "stream",
     "text": [
      "1\n",
      "0\n"
     ]
    },
    {
     "data": {
      "text/plain": [
       "0"
      ]
     },
     "execution_count": 63,
     "metadata": {},
     "output_type": "execute_result"
    }
   ],
   "source": [
    "#747. Largest Number At Least Twice of Others\n",
    "def largest_twice(nums):\n",
    "    if len(nums) == 1:\n",
    "        return 0\n",
    "    max_value = nums[0]\n",
    "    max_index = 0\n",
    "    second_max = -1\n",
    "    second_index = 0\n",
    "    for i, j in enumerate(nums):\n",
    "        if j > max_value:\n",
    "            max_index = i\n",
    "            max_value = j\n",
    "    for i, j in enumerate(nums):\n",
    "        if j < max_value and j > second_max:\n",
    "            second_index = i\n",
    "            second_max = j\n",
    "    print(max_value)\n",
    "    print(second_max)\n",
    "    if max_value >= second_max * 2:\n",
    "        return max_index\n",
    "    else:\n",
    "        return -1\n",
    "largest_twice([1, 0])"
   ]
  },
  {
   "cell_type": "code",
   "execution_count": 5,
   "metadata": {},
   "outputs": [
    {
     "data": {
      "text/plain": [
       "True"
      ]
     },
     "execution_count": 5,
     "metadata": {},
     "output_type": "execute_result"
    }
   ],
   "source": [
    "#766. Toeplitz Matrix 判断对角线元素是否相等 遍历中每个都可以i+1 j+1 比较（如果不超范围）\n",
    "# [1234\n",
    "#  5123\n",
    "#  9512]\n",
    "def toep_matrix(matrix):\n",
    "    for i in range(len(matrix)):\n",
    "        for j in range(len(matrix[0])):\n",
    "              if j+1 < len(matrix[0]) and i+1 < len(matrix):\n",
    "                    if matrix[i][j] != matrix[i+1][j+1]:\n",
    "                        return False\n",
    "    return True\n",
    "toep_matrix([[1,2,3,4],[5,1,2,3],[9,5,1,2]])"
   ]
  },
  {
   "cell_type": "code",
   "execution_count": 11,
   "metadata": {},
   "outputs": [
    {
     "name": "stdout",
     "output_type": "stream",
     "text": [
      "[[1, 2], [3, 4]]\n"
     ]
    }
   ],
   "source": [
    "#566. Reshape the Matrix\n",
    "def reshape_mat(nums, r, c):\n",
    "    d = []\n",
    "    for i in range(len(nums)):\n",
    "        for j in range(len(nums[0])):\n",
    "            d.append(nums[i][j])\n",
    "    e = []\n",
    "    for i in range(r):\n",
    "        e.append(d[i*c:i*c+c])\n",
    "    print(e)\n",
    "reshape_mat([[1,2,3,4]], 2, 2)"
   ]
  },
  {
   "cell_type": "code",
   "execution_count": 4,
   "metadata": {},
   "outputs": [
    {
     "name": "stdout",
     "output_type": "stream",
     "text": [
      "[1, 4, 4, 5, 6, 5]\n"
     ]
    },
    {
     "data": {
      "text/plain": [
       "6"
      ]
     },
     "execution_count": 4,
     "metadata": {},
     "output_type": "execute_result"
    }
   ],
   "source": [
    "#递归还是有点复杂的\n",
    "def maxAreaOfIsland2(grid):\n",
    "    def inner(i, j):\n",
    "        if 0 <= i < len(grid) and 0 <= j < len(grid[0]) and grid[i][j] == 1: #必须>=0 否则会把最下面和最上面连起来\n",
    "#         if i < len(grid) and j < len(grid[0]) and grid[i][j] == 1:\n",
    "            grid[i][j] = 0\n",
    "            return 1 + inner(i+1, j) + inner(i-1, j) + inner(i, j+1) + inner(i, j-1)\n",
    "        return 0\n",
    "\n",
    "    a = [inner(i, j) for i in range(len(grid)) for j in range(len(grid[0])) if grid[i][j] == 1]\n",
    "    print(a)\n",
    "    return max(a) if a else 0\n",
    "maxAreaOfIsland2([[0,0,1,0,0,0,0,1,0,0,0,0,0],\n",
    " [0,0,0,0,0,0,0,1,1,1,0,0,0],\n",
    " [0,1,1,0,1,0,0,0,0,0,0,0,0],\n",
    " [0,1,0,0,1,1,0,0,1,0,1,0,0],\n",
    " [0,1,0,0,1,1,0,0,1,1,1,0,0],\n",
    " [0,0,0,0,0,0,0,0,0,0,1,0,0],\n",
    " [0,0,0,0,0,0,0,1,1,1,0,0,0],\n",
    " [0,0,0,0,0,0,0,1,1,0,0,0,0]])"
   ]
  },
  {
   "cell_type": "code",
   "execution_count": 44,
   "metadata": {},
   "outputs": [
    {
     "name": "stdout",
     "output_type": "stream",
     "text": [
      "[[0, 0, 0, 0, 0, 0, 0], [0, 1, 1, 1, 0], [0, 1, 0, 1, 0], [0, 1, 1, 1, 0], [0, 0, 0, 0, 0, 0, 0]]\n"
     ]
    }
   ],
   "source": [
    "#661. Image Smoother#\n",
    "#开始思路是周围补0  不过/个数 有点不好解决\n",
    "def image_smooth(m):\n",
    "    c = m\n",
    "    a = [0] * len(m[0])\n",
    "    m.append(a)\n",
    "    m.insert(0, a)\n",
    "#     print(m)\n",
    "    for i in range(len(m)):\n",
    "        m[i].insert(0, 0)\n",
    "        m[i].append(0)\n",
    "    print(m)\n",
    "#     for i in range(1, len(m)-1):\n",
    "#         for j in range(1, len(m[0]-1)):\n",
    "#             c[i][j] = m[i-1][j-1] + m[i-1][j] + m[i-1][j+1] + m[i][j-1] + m[i][j+1] + m[i+1][j-1] + m[i+1][j] + m[i+1][j+1]\n",
    "#             if i-1 >=0 and i+1 < len(m) and j >= 0 and j < len(m[0]):\n",
    "#                 c[i][j] = (m[i-1][j-1] + m[i-1][j] + m[i-1][j+1] + m[i][j-1] + m[i][j+1] + m[i+1][j-1] + m[i+1][j] + m[i+1][j+1]) / 8\n",
    "image_smooth([[1,1,1],\n",
    " [1,0,1],\n",
    " [1,1,1]])            "
   ]
  },
  {
   "cell_type": "code",
   "execution_count": 39,
   "metadata": {},
   "outputs": [
    {
     "name": "stdout",
     "output_type": "stream",
     "text": [
      "[1, 1, 1, 0]\n",
      "[1, 1, 1, 1, 0, 1]\n",
      "[1, 1, 0, 1]\n",
      "[1, 1, 1, 0, 1, 1]\n",
      "[1, 1, 1, 1, 0, 1, 1, 1, 1]\n",
      "[1, 1, 0, 1, 1, 1]\n",
      "[1, 0, 1, 1]\n",
      "[1, 0, 1, 1, 1, 1]\n",
      "[0, 1, 1, 1]\n"
     ]
    },
    {
     "data": {
      "text/plain": [
       "[[0, 0, 0], [0, 0, 0], [0, 0, 0]]"
      ]
     },
     "execution_count": 39,
     "metadata": {},
     "output_type": "execute_result"
    }
   ],
   "source": [
    "#661. Image Smoother#\n",
    "#对每个值，把他的需要用到的值都存到list中。 \n",
    "def imageSmoother(M):\n",
    "    \"\"\"\n",
    "    :type M: List[List[int]]\n",
    "    :rtype: List[List[int]]\n",
    "    \"\"\"\n",
    "    dx, dy = [-1, 0, 1], [-1, 0, 1]\n",
    "    w, h = len(M), len(M[0])\n",
    "    N = []\n",
    "    for x in range(w):\n",
    "        row = []\n",
    "        for y in range(h):\n",
    "            nbs = [M[x + i][y + j] for i in dx for j in dy \\\n",
    "                   if 0 <= x + i < w and 0 <= y + j < h]\n",
    "            print(nbs)\n",
    "            row.append(int(sum(nbs) / len(nbs)))\n",
    "        N.append(row)\n",
    "    return N\n",
    "imageSmoother([[1,1,1],\n",
    " [1,0,1],\n",
    " [1,1,1]])"
   ]
  }
 ],
 "metadata": {
  "kernelspec": {
   "display_name": "Python 3",
   "language": "python",
   "name": "python3"
  },
  "language_info": {
   "codemirror_mode": {
    "name": "ipython",
    "version": 3
   },
   "file_extension": ".py",
   "mimetype": "text/x-python",
   "name": "python",
   "nbconvert_exporter": "python",
   "pygments_lexer": "ipython3",
   "version": "3.6.2"
  }
 },
 "nbformat": 4,
 "nbformat_minor": 2
}
