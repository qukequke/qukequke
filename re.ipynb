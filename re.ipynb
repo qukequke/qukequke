{
 "cells": [
  {
   "cell_type": "code",
   "execution_count": 2,
   "metadata": {
    "collapsed": true
   },
   "outputs": [],
   "source": [
    "import re\n",
    "re.match('itcast', 'itca')  #返回None啥也没匹配上  规则必须全部对上"
   ]
  },
  {
   "cell_type": "code",
   "execution_count": 5,
   "metadata": {},
   "outputs": [
    {
     "data": {
      "text/plain": [
       "<_sre.SRE_Match object; span=(0, 3), match='itc'>"
      ]
     },
     "execution_count": 5,
     "metadata": {},
     "output_type": "execute_result"
    }
   ],
   "source": [
    "re.match('itc', 'itca') "
   ]
  },
  {
   "cell_type": "markdown",
   "metadata": {},
   "source": [
    "## 1表示字符"
   ]
  },
  {
   "cell_type": "markdown",
   "metadata": {},
   "source": [
    "### 1 . 表示单个任意字符\n",
    "### 2 \\d 表示一个数字\n",
    "### 3 \\D 表示非数字\n",
    "### 4 \\w 表示单词 a-z 0-9 _\n",
    "### 5 \\W表示非单词\n",
    "### 6 \\s 匹配空白 空格 tab等\n",
    "### 7 \\S 匹配非空白\n",
    "### 8 [] 匹配括号中的"
   ]
  },
  {
   "cell_type": "code",
   "execution_count": 14,
   "metadata": {},
   "outputs": [
    {
     "name": "stdout",
     "output_type": "stream",
     "text": [
      "None\n",
      "<_sre.SRE_Match object; span=(0, 1), match='a'>\n",
      "<_sre.SRE_Match object; span=(0, 1), match='3'>\n",
      "<_sre.SRE_Match object; span=(0, 1), match='a'>\n",
      "<_sre.SRE_Match object; span=(0, 1), match=' '>\n",
      "<_sre.SRE_Match object; span=(0, 1), match='s'>\n",
      "<_sre.SRE_Match object; span=(0, 1), match='w'>\n",
      "<_sre.SRE_Match object; span=(0, 2), match='\\n\\t'>\n",
      "<_sre.SRE_Match object; span=(0, 1), match='3'>\n"
     ]
    }
   ],
   "source": [
    "#match 从左到右匹配的   规则需要全部匹配上\n",
    "print(re.match('.', '\\n'))#表示单个字符， 除了\\n\n",
    "print(re.match('.', 'a'))\n",
    "print(re.match('\\d', '3'))  #\\d 匹配数字\n",
    "print(re.match('\\D', 'avc'))# 匹配非数字\n",
    "print(re.match('\\s', ' '))  #匹配空白 空格tab等\n",
    "print(re.match('\\S', 'sfs')) #匹配非空白\n",
    "print(re.match('\\w', 'ww')) #单词字符 a-z A-Z 0-9 _\n",
    "print(re.match('\\W\\W', '\\n\\t')) #匹配非单词字符\n",
    "print(re.match('[\\d\\s]', '3')) #[]匹配括号中的"
   ]
  },
  {
   "cell_type": "markdown",
   "metadata": {},
   "source": [
    "# 2表示数量"
   ]
  },
  {
   "cell_type": "markdown",
   "metadata": {},
   "source": [
    "### 1 *匹配前一个字符出现至少0次\n",
    "### 2 +匹配前一个字符出现至少1次\n",
    "### 3 ？匹配前一个字符出现0 或 1 次\n",
    "### 4 {m} m次\n",
    "### 5 {m,} 至少m次\n",
    "### 6 {m,n}m到n次"
   ]
  },
  {
   "cell_type": "code",
   "execution_count": 8,
   "metadata": {},
   "outputs": [
    {
     "name": "stdout",
     "output_type": "stream",
     "text": [
      "<_sre.SRE_Match object; span=(0, 2), match='22'>\n",
      "None\n",
      "<_sre.SRE_Match object; span=(0, 1), match='3'>\n",
      "<_sre.SRE_Match object; span=(0, 1), match='3'>\n",
      "None\n",
      "<_sre.SRE_Match object; span=(0, 2), match='33'>\n",
      "<_sre.SRE_Match object; span=(0, 2), match='33'>\n"
     ]
    }
   ],
   "source": [
    "print(re.match('\\d*', '22'))  #*匹配前一个字符出现一次或者无限次 \n",
    "print(re.match('\\d+', 'd'))\n",
    "print(re.match('\\d+', '3'))  #+ 至少出现一次\n",
    "print(re.match('\\d?', '33'))  #?出现0次或者1次\n",
    "\n",
    "print(re.match('\\d{2}', '3'))  #{m}出现m次 {m,}至少m次 {m,n}m到n次\n",
    "print(re.match('\\d{1,}' ,'33'))\n",
    "print(re.match('\\d{1,3}' ,'33'))"
   ]
  },
  {
   "cell_type": "code",
   "execution_count": 11,
   "metadata": {},
   "outputs": [
    {
     "data": {
      "text/plain": [
       "True"
      ]
     },
     "execution_count": 11,
     "metadata": {},
     "output_type": "execute_result"
    }
   ],
   "source": [
    "'a' == ''+'a'"
   ]
  },
  {
   "cell_type": "code",
   "execution_count": 15,
   "metadata": {},
   "outputs": [
    {
     "name": "stdout",
     "output_type": "stream",
     "text": [
      "<_sre.SRE_Match object; span=(0, 2), match='\\\\n'>\n"
     ]
    }
   ],
   "source": [
    "print(re.match('\\\\\\\\n', '\\\\nabc')) #字符串一个\\ 规则需要两个\\\\ 避免转义字符"
   ]
  },
  {
   "cell_type": "code",
   "execution_count": 16,
   "metadata": {},
   "outputs": [
    {
     "name": "stdout",
     "output_type": "stream",
     "text": [
      "<_sre.SRE_Match object; span=(0, 2), match='\\\\n'>\n"
     ]
    }
   ],
   "source": [
    "print(re.match(r'\\\\n', '\\\\nabc'))  #原始字符串匹配"
   ]
  },
  {
   "cell_type": "code",
   "execution_count": 21,
   "metadata": {},
   "outputs": [
    {
     "name": "stdout",
     "output_type": "stream",
     "text": [
      "\\nabc\n"
     ]
    },
    {
     "data": {
      "text/plain": [
       "'\\\\nabc'"
      ]
     },
     "execution_count": 21,
     "metadata": {},
     "output_type": "execute_result"
    }
   ],
   "source": [
    "s = r'\\nabc'  #加上r之后  原来是什么样的 print之后就是什么样的 ，自动给加\\\n",
    "print(s)\n",
    "s"
   ]
  },
  {
   "cell_type": "markdown",
   "metadata": {},
   "source": [
    "# 3表示边界"
   ]
  },
  {
   "cell_type": "markdown",
   "metadata": {},
   "source": [
    "### 1 ^匹配字符串开头\n",
    "### 2 $匹配字符串结尾\n",
    "### 3 \\b匹配一个单词的边界\n",
    "### 4 \\B匹配非单词边界"
   ]
  },
  {
   "cell_type": "code",
   "execution_count": 37,
   "metadata": {},
   "outputs": [
    {
     "name": "stdout",
     "output_type": "stream",
     "text": [
      "<_sre.SRE_Match object; span=(0, 5), match='board'>\n",
      "<_sre.SRE_Match object; span=(0, 5), match='board'>\n",
      "None\n",
      "<_sre.SRE_Match object; span=(0, 5), match='board'>\n"
     ]
    }
   ],
   "source": [
    "print(re.match(r'^\\w+ar\\w$', 'board'))\n",
    "print(re.match(r'^\\w+ar\\w\\b', 'board')) \n",
    "print(re.match('^\\w+ar\\w\\b', 'board')) \n",
    "print(re.match('^\\w+ar\\w', 'board'))  #\\b必须要用r 原始字符串"
   ]
  },
  {
   "cell_type": "code",
   "execution_count": 33,
   "metadata": {},
   "outputs": [
    {
     "data": {
      "text/plain": [
       "<_sre.SRE_Match object; span=(0, 1), match='a'>"
      ]
     },
     "execution_count": 33,
     "metadata": {},
     "output_type": "execute_result"
    }
   ],
   "source": [
    "re.match('\\\\w', 'a')"
   ]
  },
  {
   "cell_type": "code",
   "execution_count": 39,
   "metadata": {},
   "outputs": [
    {
     "data": {
      "text/plain": [
       "<_sre.SRE_Match object; span=(0, 1), match='1'>"
      ]
     },
     "execution_count": 39,
     "metadata": {},
     "output_type": "execute_result"
    }
   ],
   "source": [
    "re.match(r'1|2', '1')  #或"
   ]
  },
  {
   "cell_type": "code",
   "execution_count": 42,
   "metadata": {},
   "outputs": [
    {
     "name": "stdout",
     "output_type": "stream",
     "text": [
      "<_sre.SRE_Match object; span=(0, 2), match='20'>\n",
      "None\n",
      "<_sre.SRE_Match object; span=(0, 1), match='0'>\n"
     ]
    }
   ],
   "source": [
    "#匹配100以内的数字\n",
    "print(re.match(r'[1-9]\\d?|0|100', '200'))  #这就体现出判断边界的重要性\n",
    "print(re.match(r'[1-9]\\d?$|0$|100$', '200'))\n",
    "\n",
    "print(re.match(r'[1-9]?\\d?$|100$', '0')) #另一种方法"
   ]
  },
  {
   "cell_type": "markdown",
   "metadata": {},
   "source": [
    "# 4正则分组"
   ]
  },
  {
   "cell_type": "markdown",
   "metadata": {},
   "source": [
    "### 1 | 匹配左右任意一个表达式\n",
    "### 2 (ab)将括号中的字符作为一个分组\n",
    "### 3 \\num 引用分组num匹配到的字符串"
   ]
  },
  {
   "cell_type": "code",
   "execution_count": null,
   "metadata": {
    "collapsed": true
   },
   "outputs": [],
   "source": [
    "#4 (?p<name>) 给分组起别名\n",
    "#5 (?p=name)  引用分组"
   ]
  },
  {
   "cell_type": "code",
   "execution_count": 46,
   "metadata": {},
   "outputs": [
    {
     "name": "stdout",
     "output_type": "stream",
     "text": [
      "<h1>内容</h1>\n"
     ]
    },
    {
     "data": {
      "text/plain": [
       "'内容'"
      ]
     },
     "execution_count": 46,
     "metadata": {},
     "output_type": "execute_result"
    }
   ],
   "source": [
    "result = re.match(r'<h1>(.*)</h1>', '<h1>内容</h1>')\n",
    "print(result.group(0))\n",
    "result.group(1)  #提取到内容 "
   ]
  },
  {
   "cell_type": "code",
   "execution_count": 49,
   "metadata": {},
   "outputs": [
    {
     "name": "stdout",
     "output_type": "stream",
     "text": [
      "<h1>\n",
      "</h1>\n",
      "('<h1>', '</h1>')\n"
     ]
    }
   ],
   "source": [
    "result = re.match(r'(<h1>).*(</h1>)', '<h1>内容</h1>')\n",
    "print(result.group(1))\n",
    "print(result.group(2))  #提取到内容 \n",
    "print(result.groups()) #所有内容放到元组当中"
   ]
  },
  {
   "cell_type": "code",
   "execution_count": 64,
   "metadata": {},
   "outputs": [
    {
     "data": {
      "text/plain": [
       "<_sre.SRE_Match object; span=(0, 28), match='<html><h1>itcast</h1></html>'>"
      ]
     },
     "execution_count": 64,
     "metadata": {},
     "output_type": "execute_result"
    }
   ],
   "source": [
    "re.match(r'<(.+)><(.+)>.+</\\2></\\1>', '<html><h1>itcast</h1></html>')\n",
    "#直接引用前面匹配到的"
   ]
  },
  {
   "cell_type": "code",
   "execution_count": 72,
   "metadata": {},
   "outputs": [
    {
     "data": {
      "text/plain": [
       "<_sre.SRE_Match object; span=(0, 28), match='<html><h1>itcast</h1></html>'>"
      ]
     },
     "execution_count": 72,
     "metadata": {},
     "output_type": "execute_result"
    }
   ],
   "source": [
    "re.match(r'<(?P<name1>.+)>.+</(?P=name1)>', '<html><h1>itcast</h1></html>')\n",
    "#起别名在 （）里面加?P<name> 注意大写的P 用别名(?P=name)"
   ]
  },
  {
   "cell_type": "markdown",
   "metadata": {},
   "source": [
    "# 其他的re方法"
   ]
  },
  {
   "cell_type": "markdown",
   "metadata": {},
   "source": [
    "### 1 search\n",
    "### 2 findall\n",
    "### 3 sub\n",
    "### 4 split\n"
   ]
  },
  {
   "cell_type": "code",
   "execution_count": 93,
   "metadata": {},
   "outputs": [
    {
     "name": "stdout",
     "output_type": "stream",
     "text": [
      "<_sre.SRE_Match object; span=(2, 6), match='9999'>\n",
      "['9999', '999']\n",
      "python=999\n",
      "['itcast', 'python', '', 'cpp', 'java']\n",
      "['itcast', 'python, cpp', 'java']\n"
     ]
    }
   ],
   "source": [
    "#match 实际上是有^   从开头开始查找\n",
    "print(re.search(r'\\d+', '哈哈9999haha999'))  #search 只拿到第一个\n",
    "print(re.findall(r'\\d+', '哈哈9999haha999'))  #找到所有的  返回列表  不是对象了\n",
    "print(re.sub(r'\\d+','999', 'python=998'))  #3个参数 规则 替换的 字符串\n",
    "print(re.split(r'\\W','itcast:python, cpp-java'))#按照正则表达式匹配到的分割\n",
    "print(re.split(r':|-','itcast:python, cpp-java'))"
   ]
  },
  {
   "cell_type": "code",
   "execution_count": 84,
   "metadata": {},
   "outputs": [
    {
     "name": "stdout",
     "output_type": "stream",
     "text": [
      "1000\n",
      "0\n"
     ]
    },
    {
     "data": {
      "text/plain": [
       "'python=1050, php=50'"
      ]
     },
     "execution_count": 84,
     "metadata": {},
     "output_type": "execute_result"
    }
   ],
   "source": [
    "#sub还可以用函数替换 第二个参数用函数\n",
    "def replace(result):\n",
    "    print(result.group())\n",
    "    return str(int(result.group())+50)\n",
    "re.sub(r'\\d+', replace, 'python=1000, php=0')"
   ]
  },
  {
   "cell_type": "markdown",
   "metadata": {},
   "source": [
    "## 贪婪模式"
   ]
  },
  {
   "cell_type": "code",
   "execution_count": 98,
   "metadata": {},
   "outputs": [
    {
     "name": "stdout",
     "output_type": "stream",
     "text": [
      "<_sre.SRE_Match object; span=(0, 5), match='abc11'>\n",
      "<_sre.SRE_Match object; span=(0, 1), match='a'>\n"
     ]
    }
   ],
   "source": [
    "print(re.match('\\w+', 'abc11'))\n",
    "print(re.match('\\w+?', 'abc11'))  #加上？关闭贪婪模式"
   ]
  },
  {
   "cell_type": "code",
   "execution_count": null,
   "metadata": {
    "collapsed": true
   },
   "outputs": [],
   "source": []
  }
 ],
 "metadata": {
  "kernelspec": {
   "display_name": "Python 3",
   "language": "python",
   "name": "python3"
  },
  "language_info": {
   "codemirror_mode": {
    "name": "ipython",
    "version": 3
   },
   "file_extension": ".py",
   "mimetype": "text/x-python",
   "name": "python",
   "nbconvert_exporter": "python",
   "pygments_lexer": "ipython3",
   "version": "3.6.2"
  }
 },
 "nbformat": 4,
 "nbformat_minor": 2
}
