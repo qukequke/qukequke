{
 "cells": [
  {
   "cell_type": "code",
   "execution_count": 14,
   "metadata": {
    "collapsed": true
   },
   "outputs": [],
   "source": [
    "1  #列表 索引找O(1)，任意位置（pop，append）插入O（n），尾部O（1），查找O（n） 切片k\n",
    "#   字典，copy 和 iterate n 别的都是1\n",
    "def twoSum(nums, target):\n",
    "        \"\"\"\n",
    "        :type nums: List[int]\n",
    "        :type target: int\n",
    "        :rtype: List[int]\n",
    "        \"\"\"\n",
    "        d={}\n",
    "        for i,v in enumerate(nums):\n",
    "            if target-v in d:\n",
    "                return [d[target-v],i]\n",
    "            d[v]=i"
   ]
  },
  {
   "cell_type": "code",
   "execution_count": 17,
   "metadata": {},
   "outputs": [
    {
     "name": "stdout",
     "output_type": "stream",
     "text": [
      "[0, 1]\n"
     ]
    }
   ],
   "source": [
    "a = twoSum([1,2,3,4],3)\n",
    "print(a)"
   ]
  },
  {
   "cell_type": "code",
   "execution_count": 59,
   "metadata": {},
   "outputs": [
    {
     "name": "stdout",
     "output_type": "stream",
     "text": [
      "False\n"
     ]
    }
   ],
   "source": [
    "#尝试 two_minus方法在two_sum  失败\n",
    "def twoSum(nums, target):\n",
    "    for i in nums:\n",
    "        if target + i in nums:\n",
    "            return True\n",
    "    return False\n",
    "a = twoSum([1,2,3,4],8)\n",
    "print(a)"
   ]
  },
  {
   "cell_type": "code",
   "execution_count": 46,
   "metadata": {
    "collapsed": true
   },
   "outputs": [],
   "source": [
    "def reverse(x):\n",
    "    a = str(x)\n",
    "    print(a)\n",
    "    print(a[::-1])\n",
    "    for i in a[-1:-3]:\n",
    "        print(i)"
   ]
  },
  {
   "cell_type": "code",
   "execution_count": 47,
   "metadata": {},
   "outputs": [
    {
     "name": "stdout",
     "output_type": "stream",
     "text": [
      "3789\n",
      "9873\n"
     ]
    }
   ],
   "source": [
    "reverse(3789)"
   ]
  },
  {
   "cell_type": "code",
   "execution_count": null,
   "metadata": {
    "collapsed": true
   },
   "outputs": [],
   "source": []
  },
  {
   "cell_type": "code",
   "execution_count": 13,
   "metadata": {},
   "outputs": [
    {
     "name": "stdout",
     "output_type": "stream",
     "text": [
      "2.020697619426869\n",
      "3.261504652930938\n",
      "3.8660506822163825\n"
     ]
    }
   ],
   "source": [
    "#2.1  66 \n",
    "def plusOne(digits): #48%\n",
    "        \"\"\"\n",
    "        :type digits: List[int]\n",
    "        :rtype: List[int]\n",
    "        \"\"\"\n",
    "        sum = 0\n",
    "        for i in digits:\n",
    "            sum = sum * 10 + i  #123= （（0*10+1）*10+2）*10+3\n",
    "        return [int(x) for x in str(sum+1)]\n",
    "def plusOne1(digits): #48%\n",
    "        \"\"\"\n",
    "        :type digits: List[int]\n",
    "        :rtype: List[int]\n",
    "        \"\"\"\n",
    "        sum = 0\n",
    "        for i,j in enumerate(reversed(digits)):\n",
    "            sum += j*10**i  #123= （（0*10+1）*10+2）*10+3\n",
    "        return [int(x) for x in str(sum+1)]    \n",
    "from timeit import Timer\n",
    "t1 = Timer('plusOne([1,2,3])','from __main__ import plusOne')\n",
    "t2 = Timer('plusOne1([1,2,3])','from __main__ import plusOne1')\n",
    "t3 = Timer('plusOne2([1,2,3])','from __main__ import plusOne2')\n",
    "\n",
    "print(t1.timeit())\n",
    "print(t2.timeit())\n",
    "print(t3.timeit())"
   ]
  },
  {
   "cell_type": "code",
   "execution_count": 3,
   "metadata": {},
   "outputs": [
    {
     "name": "stdout",
     "output_type": "stream",
     "text": [
      "[1, 2, 4]\n",
      "[1, 2, 4]\n"
     ]
    }
   ],
   "source": [
    "print(plusOne([1,2,3]))\n",
    "print(plusOne1([1,2,3]))\n"
   ]
  },
  {
   "cell_type": "code",
   "execution_count": 8,
   "metadata": {
    "collapsed": true
   },
   "outputs": [],
   "source": [
    "2.2\n",
    "def plusOne2(digits):  #打败12%\n",
    "        \"\"\"\n",
    "        :type digits: List[int]\n",
    "        :rtype: List[int]\n",
    "        \"\"\"\n",
    "        sum = 0\n",
    "        for i,j in enumerate(digits):\n",
    "            sum = sum + j*(10 **((len(digits)-i-1)))\n",
    "        sum += 1\n",
    "        return [int(i) for i in str(sum)]"
   ]
  },
  {
   "cell_type": "code",
   "execution_count": 21,
   "metadata": {},
   "outputs": [
    {
     "name": "stdout",
     "output_type": "stream",
     "text": [
      "[2, 5]\n"
     ]
    }
   ],
   "source": [
    "print(plusOne2([0,2,4]))"
   ]
  },
  {
   "cell_type": "code",
   "execution_count": 40,
   "metadata": {
    "collapsed": true
   },
   "outputs": [],
   "source": [
    "def merge(nums1, m, nums2, n):\n",
    "        \"\"\"\n",
    "        :type nums1: List[int]\n",
    "        :type m: int\n",
    "        :type nums2: List[int]\n",
    "        :type n: int\n",
    "        :rtype: void Do not return anything, modify nums1 in-place instead.\n",
    "        \"\"\"\n",
    "        while m > 0 and n > 0:\n",
    "            if nums1[m - 1] > nums2[n - 1]:\n",
    "                nums1[m + n - 1] = nums1[m - 1]\n",
    "                m = m - 1\n",
    "            else:\n",
    "                nums1[m + n - 1] = nums2[n - 1]\n",
    "                n = n - 1\n",
    "        if n > 0:\n",
    "            nums1[:n] = nums2[:n]\n",
    "        print(nums1)"
   ]
  },
  {
   "cell_type": "code",
   "execution_count": 48,
   "metadata": {},
   "outputs": [
    {
     "name": "stdout",
     "output_type": "stream",
     "text": [
      "[1, 2, 2, 2, 6, 7]\n"
     ]
    }
   ],
   "source": [
    "merge([1,2,7,0,0,0],3,[2,2,6],3)"
   ]
  },
  {
   "cell_type": "code",
   "execution_count": 54,
   "metadata": {
    "collapsed": true
   },
   "outputs": [],
   "source": [
    "def generate(numRows): #杨辉三角\n",
    "        \"\"\"\n",
    "        :type numRows: int\n",
    "        :rtype: List[List[int]]\n",
    "        \"\"\"\n",
    "        if numRows == 0:return []\n",
    "        res = [[1]]\n",
    "        for i in range(1,numRows):\n",
    "            res.append(list(map(lambda x,y:x+y,res[-1]+[0],[0]+res[-1])))#map完是map类型需要list后才能+\n",
    "        return res\n"
   ]
  },
  {
   "cell_type": "code",
   "execution_count": 55,
   "metadata": {},
   "outputs": [
    {
     "name": "stdout",
     "output_type": "stream",
     "text": [
      "[[1], [1, 1], [1, 2, 1]]\n"
     ]
    }
   ],
   "source": [
    "print(generate(3))"
   ]
  },
  {
   "cell_type": "code",
   "execution_count": 37,
   "metadata": {},
   "outputs": [
    {
     "name": "stdout",
     "output_type": "stream",
     "text": [
      "0\n",
      "1\n",
      "0\n",
      "3\n",
      "1\n",
      "3\n"
     ]
    }
   ],
   "source": [
    "def maxProfit(prices): #只能进行一次交易 右边减左边\n",
    "        \"\"\"\n",
    "        :type prices: List[int]\n",
    "        :rtype: int\n",
    "        \"\"\"\n",
    "        curSum=maxSum=0\n",
    "        for i in range(1,len(prices)):\n",
    "            curSum=max(0,curSum+prices[i]-prices[i-1])  \n",
    "            maxSum = max(curSum,maxSum) \n",
    "            print(curSum)\n",
    "        return maxSum                     \n",
    "  #先找到一个右边比左边大的值,然后用所有右面的值减去这个左边的值,如果出现<0(右边值大于左边这个值)重新计算右边值\n",
    "  #减去这个值,找到一个最大的\n",
    "print(maxProfit([7, 4, 5, 3, 6, 4]))"
   ]
  },
  {
   "cell_type": "code",
   "execution_count": 38,
   "metadata": {},
   "outputs": [
    {
     "name": "stdout",
     "output_type": "stream",
     "text": [
      "3\n"
     ]
    }
   ],
   "source": [
    "def maxProfit1(prices):  #遍历方法 不能通过\n",
    "        \"\"\"\n",
    "        :type prices: List[int]\n",
    "        :rtype: int\n",
    "        \"\"\"\n",
    "        a=[]\n",
    "        for i in range(len(prices)-1, -1, -1):\n",
    "            for j in range(i):\n",
    "                a.append(prices[i]-prices[j])    \n",
    "        if not a:\n",
    "            return 0\n",
    "        else:\n",
    "            return max(max(a),0)\n",
    "print(maxProfit1([7, 4, 5, 3, 6, 4]))"
   ]
  },
  {
   "cell_type": "code",
   "execution_count": 62,
   "metadata": {
    "collapsed": true
   },
   "outputs": [],
   "source": [
    "\n",
    "def maxProfit(prices):#可以多次交易\n",
    "        \"\"\"\n",
    "        :type prices: List[int]\n",
    "        :rtype: int\n",
    "        \"\"\"\n",
    "        return sum(max(prices[i+1]-prices[i],0) for i in range(len(prices)-1))\n",
    "def maxProfit1(prices):#可以多次交易\n",
    "        \"\"\"\n",
    "        :type prices: List[int]\n",
    "        :rtype: int\n",
    "        \"\"\"\n",
    "        sum=0\n",
    "        for i in range(len(prices)-1):\n",
    "            sum += max(prices[i+1]-prices[i], 0)\n",
    "#             print(sum)\n",
    "        return sum\n",
    "def maxProfit2(prices):#可以多次交易\n",
    "        \"\"\"\n",
    "        :type prices: List[int]\n",
    "        :rtype: int\n",
    "        \"\"\"\n",
    "        a=[]\n",
    "        for i in range(len(prices)-1):\n",
    "            if prices[i+1]>prices[i]:\n",
    "                a.append(prices[i+1]-prices[i])\n",
    "        return sum(a)"
   ]
  },
  {
   "cell_type": "code",
   "execution_count": 64,
   "metadata": {},
   "outputs": [
    {
     "name": "stdout",
     "output_type": "stream",
     "text": [
      "3.667405344425788\n",
      "2.610690000015893\n",
      "2.0501649503830777\n"
     ]
    }
   ],
   "source": [
    "from timeit import Timer\n",
    "t1 = Timer('maxProfit([7, 1, 5, 3, 6, 4])','from __main__ import maxProfit')\n",
    "print(t1.timeit())\n",
    "t2 = Timer('maxProfit1([7, 1, 5, 3, 6, 4])','from __main__ import maxProfit1')\n",
    "print(t2.timeit())\n",
    "t3 = Timer('maxProfit2([7, 1, 5, 3, 6, 4])','from __main__ import maxProfit2')\n",
    "print(t3.timeit())"
   ]
  },
  {
   "cell_type": "code",
   "execution_count": 63,
   "metadata": {},
   "outputs": [
    {
     "name": "stdout",
     "output_type": "stream",
     "text": [
      "7\n"
     ]
    }
   ],
   "source": [
    "print(maxProfit2([7, 1, 5, 3, 6, 4]))"
   ]
  },
  {
   "cell_type": "code",
   "execution_count": 65,
   "metadata": {
    "collapsed": true
   },
   "outputs": [],
   "source": [
    "#167\n",
    "def two_sum2(numbers, target):\n",
    "    a = {}\n",
    "    for i,j in enumerate(numbers):\n",
    "        if target-j in a:\n",
    "            return [a[target-j], i+1]\n",
    "        else:\n",
    "            a[j] = i+1"
   ]
  },
  {
   "cell_type": "code",
   "execution_count": 7,
   "metadata": {},
   "outputs": [
    {
     "name": "stdout",
     "output_type": "stream",
     "text": [
      "[1, 3]\n"
     ]
    }
   ],
   "source": [
    "print(two_sum2([1,2,3,4],4))"
   ]
  },
  {
   "cell_type": "code",
   "execution_count": 10,
   "metadata": {},
   "outputs": [
    {
     "name": "stdout",
     "output_type": "stream",
     "text": [
      "{8: 2, 7: 3}\n",
      "2\n",
      "7\n"
     ]
    }
   ],
   "source": [
    "#169、Majority Element\n",
    "def Majority_element(nums):\n",
    "    a = {}\n",
    "    for i,j in enumerate(nums):\n",
    "        if j in a.keys():\n",
    "            a[j] += 1\n",
    "        else:\n",
    "            a[j] = 1\n",
    "    print(a)\n",
    "    max = 1\n",
    "    print(len(nums)//2)\n",
    "    for i,j in a.items():\n",
    "#         print(i)\n",
    "#         print(j)\n",
    "        if j>(len(nums)//2):\n",
    "            return i\n",
    "print(Majority_element([8,8,7,7,7])) "
   ]
  },
  {
   "cell_type": "code",
   "execution_count": 9,
   "metadata": {},
   "outputs": [
    {
     "name": "stdout",
     "output_type": "stream",
     "text": [
      "I=44\n",
      "cand=3\n",
      "count=1\n",
      "I=4\n",
      "cand=3\n",
      "count=0\n",
      "I=24\n",
      "cand=4\n",
      "count=1\n",
      "I=14\n",
      "cand=4\n",
      "count=0\n",
      "I=44\n",
      "cand=14\n",
      "count=1\n",
      "14\n"
     ]
    }
   ],
   "source": [
    "def majorityElement(nums):\n",
    "        \"\"\"\n",
    "        :type nums: List[int]\n",
    "        :rtype: int\n",
    "        \"\"\"\n",
    "        cand = nums[0]\n",
    "        count = 1\n",
    "        for i in nums[1:]:\n",
    "            print('I='+str(i))\n",
    "            print('cand=' + str(cand))\n",
    "            print('count=' + str(count))\n",
    "            if count == 0:\n",
    "                cand, count = i, 1\n",
    "            else:\n",
    "                if i == cand:\n",
    "                    count = count + 1\n",
    "                else:\n",
    "                    count = count - 1\n",
    "        return cand\n",
    "print(majorityElement([3,44,4,24,14,44]))\n",
    "#看不懂"
   ]
  },
  {
   "cell_type": "code",
   "execution_count": 15,
   "metadata": {},
   "outputs": [
    {
     "name": "stdout",
     "output_type": "stream",
     "text": [
      "[2, 3, 4, 1]\n"
     ]
    }
   ],
   "source": [
    "def rotate(nums, k):\n",
    "        \"\"\"\n",
    "        :type nums: List[int]\n",
    "        :type k: int\n",
    "        :rtype: void Do not return anything, modify nums in-place instead.\n",
    "        \"\"\"\n",
    "        n = len(nums)\n",
    "        nums[:] = nums[n - k:] + nums[:n - k]\n",
    "        return nums\n",
    "print(rotate([1,2,3,4],3))"
   ]
  },
  {
   "cell_type": "code",
   "execution_count": 24,
   "metadata": {},
   "outputs": [
    {
     "name": "stdout",
     "output_type": "stream",
     "text": [
      "False\n"
     ]
    }
   ],
   "source": [
    "#219. Contains Duplicate II \n",
    "def contain_dup(nums,k):\n",
    "    a = {}\n",
    "    for i,j in enumerate(nums):\n",
    "        if j in a and (i-a[j])<=k:\n",
    "            return True\n",
    "        else:\n",
    "            a[j] = i\n",
    "    return False\n",
    "print(contain_dup([1,2,3,1],2))\n",
    "#和two sum很像  多一个条件而已"
   ]
  },
  {
   "cell_type": "code",
   "execution_count": 33,
   "metadata": {},
   "outputs": [
    {
     "name": "stdout",
     "output_type": "stream",
     "text": [
      "[0, 1]\n",
      "2\n"
     ]
    }
   ],
   "source": [
    "#268 missing number   %10\n",
    "def missing_number(nums):\n",
    "    nums.sort()\n",
    "    print(nums)\n",
    "    for i,j in enumerate(nums):\n",
    "        if i != j:\n",
    "            return i \n",
    "    return len(nums)\n",
    "print(missing_number([0,1]))"
   ]
  },
  {
   "cell_type": "code",
   "execution_count": 34,
   "metadata": {
    "collapsed": true
   },
   "outputs": [],
   "source": [
    "def missingNumber(self, nums):\n",
    "        \"\"\"\n",
    "        :type nums: List[int]\n",
    "        :rtype: int\n",
    "        \"\"\"\n",
    "        n = len(nums)\n",
    "        return n * (n+1) / 2 - sum(nums)\n",
    "#利用数学求和公式 %50"
   ]
  },
  {
   "cell_type": "code",
   "execution_count": 50,
   "metadata": {},
   "outputs": [
    {
     "name": "stdout",
     "output_type": "stream",
     "text": [
      "[0, 1, 0]\n"
     ]
    }
   ],
   "source": [
    "#283 move zeros\n",
    "def move_zeros(nums):\n",
    "    index=0\n",
    "    for i,j in enumerate(nums):\n",
    "        if j==0:\n",
    "            del nums[i]\n",
    "            nums.append(0)\n",
    "        else:\n",
    "            index += 1\n",
    "    print(nums)\n",
    "move_zeros([0,0,1])\n",
    "#这种删除的 总是会漏"
   ]
  },
  {
   "cell_type": "code",
   "execution_count": 23,
   "metadata": {},
   "outputs": [
    {
     "name": "stdout",
     "output_type": "stream",
     "text": [
      "[1, 2, 3, 4, 0, 0, 0]\n"
     ]
    }
   ],
   "source": [
    "#把所有列表中的0移到右面，保持原顺序\n",
    "def move_zeros(nums):\n",
    "    index = 0\n",
    "    for i in nums:\n",
    "        if i!=0:\n",
    "            nums[index]=i\n",
    "            index += 1\n",
    "    for i in range(index, len(nums)):\n",
    "            nums[i]=0\n",
    "    return nums\n",
    "print(move_zeros([1,0,0,2,3,0,4]))\n",
    "#找0删除 不靠谱 ，漏元素\n",
    "#所以找不等于0的，把原来不等于0的重新赋值"
   ]
  },
  {
   "cell_type": "code",
   "execution_count": 43,
   "metadata": {},
   "outputs": [
    {
     "name": "stdout",
     "output_type": "stream",
     "text": [
      "2\n"
     ]
    }
   ],
   "source": [
    "#414 找到第三个最大元素，如果长度小于3，返回最大值\n",
    "def thirdMax(nums):\n",
    "    nums = sorted(list(set(nums)))\n",
    "    if len(nums)<3:\n",
    "        return max(nums)\n",
    "    else:\n",
    "        print(nums)\n",
    "        return nums[-3]\n",
    "print(thirdMax([1,1,2]))"
   ]
  },
  {
   "cell_type": "code",
   "execution_count": 40,
   "metadata": {},
   "outputs": [
    {
     "name": "stdout",
     "output_type": "stream",
     "text": [
      "[1, 2, 3]\n"
     ]
    }
   ],
   "source": [
    "a = [3,2,1]\n",
    "a.sort()\n",
    "print(a)"
   ]
  },
  {
   "cell_type": "code",
   "execution_count": 15,
   "metadata": {},
   "outputs": [
    {
     "name": "stdout",
     "output_type": "stream",
     "text": [
      "[3]\n"
     ]
    }
   ],
   "source": [
    "#448   失败\n",
    "def find_all_disappear(nums):\n",
    "    return [i for i in range(1, len(nums)+1) if i not in nums]\n",
    "\n",
    "b = [4,3,2,7,8,2,3,1]\n",
    "print(find_all_disappear([1,1,2]))\n",
    "\n",
    "#超时，给一个特别长的超时"
   ]
  },
  {
   "cell_type": "code",
   "execution_count": 17,
   "metadata": {},
   "outputs": [
    {
     "name": "stdout",
     "output_type": "stream",
     "text": [
      "[-1, 1, 2]\n",
      "[-1, 1, 2]\n",
      "[-1, -1, 2]\n",
      "[3]\n"
     ]
    }
   ],
   "source": [
    "#448   标记法，用正负标志位区分出现过的和没出现过的\n",
    "def find_all_disappear(nums):\n",
    "    for i in range(len(nums)):\n",
    "        index = abs(nums[i]) - 1\n",
    "        nums[index] = -abs(nums[index])\n",
    "    return [i + 1 for i in range(len(nums)) if nums[i] > 0]\n",
    "b = [4,3,2,7,8,2,3,1]\n",
    "print(find_all_disappear([1,1,2]))\n",
    "#因为索引值和里面的元素一样，所以可以把元素当索引值，重复元素会标记重复索引值，最后没有标记过的（也就是正的）\n",
    "#索引（+1因为是元素是1开始，索引是0开始）也就是没有出现的元素"
   ]
  },
  {
   "cell_type": "code",
   "execution_count": null,
   "metadata": {
    "collapsed": true
   },
   "outputs": [],
   "source": [
    "#方法2用集合的补集\n",
    "def find_all_disappear(nums):\n",
    "    a = set([i+1 for i in range(len(nums))])\n",
    "    return list(a-set(nums))\n",
    "            "
   ]
  },
  {
   "cell_type": "code",
   "execution_count": 34,
   "metadata": {},
   "outputs": [
    {
     "name": "stdout",
     "output_type": "stream",
     "text": [
      "5\n"
     ]
    }
   ],
   "source": [
    "#485  要求是找到最长的1的连续个数，我这个是0和1的都求了\n",
    "#遍历一次，用两个指针一个是当前最大，一个是最大\n",
    "def max_consecutive(nums):\n",
    "    max_num = 0\n",
    "    cur_1num = 0\n",
    "    cur_0num = 0\n",
    "    for i,j in enumerate(nums):\n",
    "        if j==0:\n",
    "            cur_0num += 1\n",
    "            if max_num<cur_0num:\n",
    "                max0_num = cur_0num\n",
    "        else:\n",
    "            cur_0num = 0\n",
    "    for i,j in enumerate(nums):\n",
    "        if j==1:\n",
    "            cur_1num += 1\n",
    "            if max_num<cur_1num:\n",
    "                max1_num = cur_1num\n",
    "        else:\n",
    "            cur_1num = 0\n",
    "    print(max(max0_num,max1_num))\n",
    "max_consecutive([1,0,1,0,0,1,1,1,0,0,0,0,0])"
   ]
  },
  {
   "cell_type": "code",
   "execution_count": 15,
   "metadata": {},
   "outputs": [
    {
     "name": "stdout",
     "output_type": "stream",
     "text": [
      "3\n"
     ]
    }
   ],
   "source": [
    "#532 two_minus_num  失败品\n",
    "def k_diff_pairs(nums,k):\n",
    "    a = {}\n",
    "    index = 0\n",
    "    for i,j in enumerate(nums):\n",
    "        if abs(k-j) in a or k+j in a:\n",
    "            index += 1\n",
    "#             del a[nums[i]]\n",
    "        else:\n",
    "            a[j] = i\n",
    "    return index\n",
    "print(k_diff_pairs([3,1,4,1,5],2))"
   ]
  },
  {
   "cell_type": "code",
   "execution_count": 46,
   "metadata": {},
   "outputs": [
    {
     "name": "stdout",
     "output_type": "stream",
     "text": [
      "{3, 5, 6, 7}\n",
      "2\n"
     ]
    }
   ],
   "source": [
    "def findPairs(nums, k):\n",
    "    if k>0:\n",
    "        print(set(n+k for n in nums))\n",
    "        return len(set(nums) & set(n+k for n in nums))\n",
    "    elif k==0:\n",
    "        return sum(v>1 for v in collections.Counter(nums).values())\n",
    "    else:\n",
    "        return 0\n",
    "print(findPairs([3,1,4,1,5],2))"
   ]
  },
  {
   "cell_type": "code",
   "execution_count": 50,
   "metadata": {},
   "outputs": [
    {
     "data": {
      "text/plain": [
       "{2, 3}"
      ]
     },
     "execution_count": 50,
     "metadata": {},
     "output_type": "execute_result"
    }
   ],
   "source": [
    "set([1,2,3]) & set([3,2,5])"
   ]
  },
  {
   "cell_type": "code",
   "execution_count": 16,
   "metadata": {},
   "outputs": [
    {
     "name": "stdout",
     "output_type": "stream",
     "text": [
      "2\n"
     ]
    }
   ],
   "source": [
    "def findPairs2(nums, k):    \n",
    "    if k < 0:\n",
    "        return 0\n",
    "    if k == 0:\n",
    "        import collections\n",
    "        total = 0\n",
    "        nums = collections.Counter(nums)\n",
    "        for n in nums:\n",
    "            if nums[n] > 1:\n",
    "                total += 1\n",
    "        return total\n",
    "    nums = set(nums)\n",
    "    total = 0\n",
    "    for n in nums:\n",
    "        if n+k in nums:\n",
    "            total+=1\n",
    "    return total\n",
    "print(findPairs2([3,1,4,1,5],2))"
   ]
  },
  {
   "cell_type": "code",
   "execution_count": 69,
   "metadata": {},
   "outputs": [
    {
     "name": "stdout",
     "output_type": "stream",
     "text": [
      "<class 'collections.Counter'>\n",
      "Counter({1: 2, 3: 1, 4: 1, 5: 1})\n",
      "3\n",
      "1\n",
      "4\n",
      "5\n"
     ]
    }
   ],
   "source": [
    "import collections\n",
    "nums = [3,1,4,1,5]\n",
    "nums = collections.Counter(nums)\n",
    "print(type(nums)) #like dict but not\n",
    "print(nums)\n",
    "for i in nums:\n",
    "    print(i)"
   ]
  },
  {
   "cell_type": "code",
   "execution_count": 70,
   "metadata": {
    "collapsed": true
   },
   "outputs": [],
   "source": [
    "#561、Array Partition I\n",
    "class Solution(object):\n",
    "    def arrayPairSum(self, nums):\n",
    "        \"\"\"\n",
    "        :type nums: List[int]\n",
    "        :rtype: int\n",
    "        \"\"\"\n",
    "        return sum(sorted(nums)[::2])\n"
   ]
  },
  {
   "cell_type": "code",
   "execution_count": 13,
   "metadata": {},
   "outputs": [
    {
     "data": {
      "text/plain": [
       "[[1, 2, 3, 4]]"
      ]
     },
     "execution_count": 13,
     "metadata": {},
     "output_type": "execute_result"
    }
   ],
   "source": [
    "#566 reshape\n",
    "def list_reshape(nums,r,c):\n",
    "    one_row = [nums[i][j] for i in range(len(nums)) for j in range(len(nums[0]))]\n",
    "    return [one_row[c*i:c*i+c] for i in range(r)]\n",
    "    print(one_row)\n",
    "a = [[1,2],[3,4]]\n",
    "list_reshape(a,1,4)"
   ]
  },
  {
   "cell_type": "code",
   "execution_count": 19,
   "metadata": {},
   "outputs": [
    {
     "name": "stdout",
     "output_type": "stream",
     "text": [
      "[array([1]), array([2]), array([3]), array([4])]\n"
     ]
    }
   ],
   "source": [
    "#想用reshape试试，发现，numpy转换成list（list）有点费劲，没完成\n",
    "def matrixReshape(nums, r, c):\n",
    "    \"\"\"\n",
    "    :type nums: List[List[int]]\n",
    "    :type r: int\n",
    "    :type c: int\n",
    "    :rtype: List[List[int]]\n",
    "    \"\"\"\n",
    "    import numpy \n",
    "    nums = numpy.array(nums)\n",
    "    return list(nums.reshape(r,c))\n",
    "print(matrixReshape([[1,2],[3,4]],4,1))"
   ]
  },
  {
   "cell_type": "code",
   "execution_count": 67,
   "metadata": {},
   "outputs": [
    {
     "name": "stdout",
     "output_type": "stream",
     "text": [
      "<class 'list'>\n"
     ]
    },
    {
     "data": {
      "text/plain": [
       "int"
      ]
     },
     "execution_count": 67,
     "metadata": {},
     "output_type": "execute_result"
    }
   ],
   "source": [
    "a=[1,2,3,4]\n",
    "print(type(a[:1]))\n",
    "type(a[0])\n",
    "#用切片返回的是列表，另外是值 不一样"
   ]
  },
  {
   "cell_type": "code",
   "execution_count": 62,
   "metadata": {},
   "outputs": [
    {
     "name": "stdout",
     "output_type": "stream",
     "text": [
      "[[1, 2], [3, 4]]\n",
      "4.106339261778999\n"
     ]
    }
   ],
   "source": [
    "#测试代码速度\n",
    "from timeit import Timer\n",
    "# t1 = Timer('list_reshape([[1,2],[3,4]],2,2)', 'from __main__ imoprt test1')\n",
    "if __name__ == '__main__':\n",
    "    t1 = Timer(\"list_reshape(a,2,2)\", \"from __main__ import list_reshape\\na=[[1,2],[3,4]]\")\n",
    "    print(a)\n",
    "    print(t1.timeit())\n",
    "#生成Timer用\\n +++++++++++++++++++++++++++++++++++++++++++++++++++++++++++++++++++++++++"
   ]
  },
  {
   "cell_type": "code",
   "execution_count": 73,
   "metadata": {},
   "outputs": [
    {
     "name": "stdout",
     "output_type": "stream",
     "text": [
      "[1, 2, 4, 5]\n",
      "[2, 4, 6, 8, 9, 10, 15]\n"
     ]
    },
    {
     "data": {
      "text/plain": [
       "5"
      ]
     },
     "execution_count": 73,
     "metadata": {},
     "output_type": "execute_result"
    }
   ],
   "source": [
    "#581、Shortest Unsorted Continuous Subarray\n",
    "def find_shortest_unsorted(nums):\n",
    "    a = sorted(nums)\n",
    "    c = []\n",
    "    for i in range(len(nums)):\n",
    "        if a[i]!=nums[i]:\n",
    "            c.append(i)\n",
    "    print(c)\n",
    "    print(a)\n",
    "    return max(c)-min(c)+1\n",
    "find_shortest_unsorted([2,6,4,8,10,9,15])"
   ]
  },
  {
   "cell_type": "code",
   "execution_count": 78,
   "metadata": {},
   "outputs": [
    {
     "name": "stdout",
     "output_type": "stream",
     "text": [
      "[True, False, False, True, False, False, True]\n",
      "[True, False, False, True, False, False, True]\n"
     ]
    },
    {
     "data": {
      "text/plain": [
       "5"
      ]
     },
     "execution_count": 78,
     "metadata": {},
     "output_type": "execute_result"
    }
   ],
   "source": [
    "def findUnsortedSubarray(nums):\n",
    "    \"\"\"\n",
    "    :type nums: List[int]\n",
    "    :rtype: int\n",
    "    \"\"\"\n",
    "    all_same = [a == b for (a, b) in zip(nums, sorted(nums))]\n",
    "    print(all_same)\n",
    "    print(all_same[::-1])\n",
    "    return 0 if all(all_same) else len(nums) - all_same.index(False) - all_same[::-1].index(False)\n",
    "findUnsortedSubarray([2,6,4,8,10,9,15])"
   ]
  },
  {
   "cell_type": "code",
   "execution_count": 82,
   "metadata": {},
   "outputs": [
    {
     "data": {
      "text/plain": [
       "1"
      ]
     },
     "execution_count": 82,
     "metadata": {},
     "output_type": "execute_result"
    }
   ],
   "source": [
    "a = [1,2,3,4,5,2,2]\n",
    "a.index(2)"
   ]
  },
  {
   "cell_type": "code",
   "execution_count": 22,
   "metadata": {},
   "outputs": [
    {
     "name": "stdout",
     "output_type": "stream",
     "text": [
      "2\n",
      "1\n",
      "0\n"
     ]
    }
   ],
   "source": [
    "for i in range(3-1,0-1,-1):\n",
    "    print(i)"
   ]
  },
  {
   "cell_type": "code",
   "execution_count": 47,
   "metadata": {},
   "outputs": [
    {
     "data": {
      "text/plain": [
       "10"
      ]
     },
     "execution_count": 47,
     "metadata": {},
     "output_type": "execute_result"
    }
   ],
   "source": [
    "sum(i for i in range(5))\n",
    "    "
   ]
  },
  {
   "cell_type": "code",
   "execution_count": 49,
   "metadata": {},
   "outputs": [
    {
     "data": {
      "text/plain": [
       "range"
      ]
     },
     "execution_count": 49,
     "metadata": {},
     "output_type": "execute_result"
    }
   ],
   "source": [
    "type(range(3))"
   ]
  },
  {
   "cell_type": "code",
   "execution_count": 13,
   "metadata": {},
   "outputs": [
    {
     "data": {
      "text/plain": [
       "{3}"
      ]
     },
     "execution_count": 13,
     "metadata": {},
     "output_type": "execute_result"
    }
   ],
   "source": [
    "set([1,2,3])-set([1,1,2])"
   ]
  },
  {
   "cell_type": "code",
   "execution_count": null,
   "metadata": {
    "collapsed": true
   },
   "outputs": [],
   "source": []
  }
 ],
 "metadata": {
  "kernelspec": {
   "display_name": "Python 3",
   "language": "python",
   "name": "python3"
  },
  "language_info": {
   "codemirror_mode": {
    "name": "ipython",
    "version": 3
   },
   "file_extension": ".py",
   "mimetype": "text/x-python",
   "name": "python",
   "nbconvert_exporter": "python",
   "pygments_lexer": "ipython3",
   "version": "3.6.2"
  }
 },
 "nbformat": 4,
 "nbformat_minor": 2
}
