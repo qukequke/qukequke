{
 "cells": [
  {
   "cell_type": "code",
   "execution_count": 3,
   "metadata": {
    "collapsed": true
   },
   "outputs": [],
   "source": [
    "import tensorflow as tf"
   ]
  },
  {
   "cell_type": "code",
   "execution_count": 31,
   "metadata": {},
   "outputs": [],
   "source": [
    "import random\n",
    "import matplotlib.pyplot as plt"
   ]
  },
  {
   "cell_type": "code",
   "execution_count": 103,
   "metadata": {},
   "outputs": [
    {
     "data": {
      "image/png": "[encoded data removed]",
      "text/plain": [
       "<matplotlib.figure.Figure at 0x2355bcf4550>"
      ]
     },
     "metadata": {},
     "output_type": "display_data"
    }
   ],
   "source": [
    "x_train = [i/100 for i in range(100)]\n",
    "y_train = [i*2+4+random.uniform(-4,-3) for i in x_train]\n",
    "plt.scatter(x_train,y_train, s=2)\n",
    "plt.show()"
   ]
  },
  {
   "cell_type": "code",
   "execution_count": 124,
   "metadata": {},
   "outputs": [
    {
     "name": "stdout",
     "output_type": "stream",
     "text": [
      "0.0\n",
      "2.08188\n",
      "0.451866\n"
     ]
    },
    {
     "data": {
      "image/png": "[encoded data removed]",
      "text/plain": [
       "<matplotlib.figure.Figure at 0x2355eab9f98>"
      ]
     },
     "metadata": {},
     "output_type": "display_data"
    }
   ],
   "source": [
    "w = tf.Variable(0, name='w1', dtype=tf.float32)\n",
    "b = tf.Variable(0, name='b1', dtype=tf.float32)\n",
    "x = tf.placeholder(dtype=tf.float32, shape=[100,1],name='x')\n",
    "y = tf.placeholder(dtype=tf.float32, shape=[100,1], name='y')\n",
    "pred = tf.add(tf.multiply(w, x),b)\n",
    "cost = tf.reduce_sum(tf.square(y-pred))/100\n",
    "init = tf.global_variables_initializer()\n",
    "optimizer = tf.train.GradientDescentOptimizer(learning_rate=0.1).minimize(cost)\n",
    "with tf.Session() as sess:\n",
    "    sess.run(init)\n",
    "    print(sess.run(w))\n",
    "    for i in range(1000):\n",
    "        a, l = sess.run([optimizer,cost], feed_dict={x:np.array(x_train).reshape(100,1),y:np.array(y_train).reshape(100,1)})\n",
    "#         print(l)\n",
    "    print(w.eval())\n",
    "    print(b.eval())\n",
    "    plt.scatter(x_train,y_train, s=2)\n",
    "    plt.plot(x_train, w.eval()*np.array(x_train)+b.eval())\n",
    "    plt.show()"
   ]
  },
  {
   "cell_type": "code",
   "execution_count": 87,
   "metadata": {},
   "outputs": [
    {
     "name": "stdout",
     "output_type": "stream",
     "text": [
      "[[4]\n",
      " [4]\n",
      " [4]]\n"
     ]
    }
   ],
   "source": [
    "import numpy as np\n",
    "mul_ = tf.add(tf.multiply(3, np.ones((3,1))),1)\n",
    "with tf.Session() as sess:\n",
    "    print(sess.run(mul_))"
   ]
  },
  {
   "cell_type": "code",
   "execution_count": null,
   "metadata": {
    "collapsed": true
   },
   "outputs": [],
   "source": []
  }
 ],
 "metadata": {
  "kernelspec": {
   "display_name": "Python 3",
   "language": "python",
   "name": "python3"
  },
  "language_info": {
   "codemirror_mode": {
    "name": "ipython",
    "version": 3
   },
   "file_extension": ".py",
   "mimetype": "text/x-python",
   "name": "python",
   "nbconvert_exporter": "python",
   "pygments_lexer": "ipython3",
   "version": "3.6.2"
  }
 },
 "nbformat": 4,
 "nbformat_minor": 2
}
