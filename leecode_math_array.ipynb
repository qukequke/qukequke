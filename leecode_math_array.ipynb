{
 "cells": [
  {
   "cell_type": "code",
   "execution_count": 32,
   "metadata": {},
   "outputs": [
    {
     "name": "stdout",
     "output_type": "stream",
     "text": [
      "0\n"
     ]
    }
   ],
   "source": [
    "#7 \n",
    "def reverse_integer(x):\n",
    "    if x < 0:\n",
    "        res = -int(str(x)[-1:0:-1])\n",
    "    else:\n",
    "        res =  int(str(x)[::-1])\n",
    "    if abs(res)>0x7fffffff:  #注意判断  溢出（大于32位）2**32-1 \n",
    "        return 0\n",
    "    else:\n",
    "        return res\n",
    "print(reverse_integer(0))"
   ]
  },
  {
   "cell_type": "code",
   "execution_count": 1,
   "metadata": {},
   "outputs": [
    {
     "name": "stdout",
     "output_type": "stream",
     "text": [
      "12.3\n",
      "1.23\n",
      "0.123\n",
      "0.0123\n",
      "0.00123\n",
      "0.000123\n",
      "1.23e-05\n",
      "1.23e-06\n",
      "1.23e-07\n",
      "1.2300000000000001e-08\n",
      "1.23e-09\n",
      "1.2300000000000001e-10\n",
      "1.2300000000000002e-11\n",
      "1.2300000000000002e-12\n",
      "1.2300000000000003e-13\n",
      "1.2300000000000003e-14\n",
      "1.2300000000000003e-15\n",
      "1.2300000000000003e-16\n",
      "1.2300000000000002e-17\n",
      "1.2300000000000002e-18\n",
      "1.2300000000000001e-19\n",
      "1.2300000000000002e-20\n",
      "1.2300000000000002e-21\n",
      "1.2300000000000003e-22\n",
      "1.2300000000000003e-23\n",
      "1.2300000000000002e-24\n",
      "1.2300000000000002e-25\n",
      "1.2300000000000002e-26\n",
      "1.2300000000000002e-27\n",
      "1.2300000000000002e-28\n",
      "1.2300000000000001e-29\n",
      "1.23e-30\n",
      "1.23e-31\n",
      "1.23e-32\n",
      "1.23e-33\n",
      "1.23e-34\n",
      "1.23e-35\n",
      "1.23e-36\n",
      "1.23e-37\n",
      "1.23e-38\n",
      "1.23e-39\n",
      "1.2299999999999999e-40\n",
      "1.2299999999999998e-41\n",
      "1.2299999999999998e-42\n",
      "1.2299999999999998e-43\n",
      "1.2299999999999997e-44\n",
      "1.2299999999999997e-45\n",
      "1.2299999999999997e-46\n",
      "1.2299999999999996e-47\n",
      "1.2299999999999996e-48\n",
      "1.2299999999999996e-49\n",
      "1.2299999999999996e-50\n",
      "1.2299999999999996e-51\n",
      "1.2299999999999996e-52\n",
      "1.2299999999999996e-53\n",
      "1.2299999999999995e-54\n",
      "1.2299999999999995e-55\n",
      "1.2299999999999996e-56\n",
      "1.2299999999999996e-57\n",
      "1.2299999999999995e-58\n",
      "1.2299999999999994e-59\n",
      "1.2299999999999994e-60\n",
      "1.2299999999999993e-61\n",
      "1.2299999999999994e-62\n",
      "1.2299999999999993e-63\n",
      "1.2299999999999994e-64\n",
      "1.2299999999999994e-65\n",
      "1.2299999999999995e-66\n",
      "1.2299999999999995e-67\n",
      "1.2299999999999994e-68\n",
      "1.2299999999999994e-69\n",
      "1.2299999999999994e-70\n",
      "1.2299999999999995e-71\n",
      "1.2299999999999994e-72\n",
      "1.2299999999999994e-73\n",
      "1.2299999999999995e-74\n",
      "1.2299999999999996e-75\n",
      "1.2299999999999995e-76\n",
      "1.2299999999999995e-77\n",
      "1.2299999999999996e-78\n",
      "1.2299999999999995e-79\n",
      "1.2299999999999995e-80\n",
      "1.2299999999999996e-81\n",
      "1.2299999999999995e-82\n",
      "1.2299999999999995e-83\n",
      "1.2299999999999995e-84\n",
      "1.2299999999999994e-85\n",
      "1.2299999999999995e-86\n",
      "1.2299999999999995e-87\n",
      "1.2299999999999995e-88\n",
      "1.2299999999999995e-89\n",
      "1.2299999999999996e-90\n",
      "1.2299999999999995e-91\n",
      "1.2299999999999995e-92\n",
      "1.2299999999999994e-93\n",
      "1.2299999999999995e-94\n",
      "1.2299999999999995e-95\n",
      "1.2299999999999994e-96\n",
      "1.2299999999999994e-97\n",
      "1.2299999999999994e-98\n",
      "1.2299999999999994e-99\n",
      "1.2299999999999993e-100\n",
      "1.2299999999999993e-101\n",
      "1.2299999999999992e-102\n",
      "1.2299999999999991e-103\n",
      "1.2299999999999991e-104\n",
      "1.229999999999999e-105\n",
      "1.229999999999999e-106\n",
      "1.229999999999999e-107\n",
      "1.229999999999999e-108\n",
      "1.229999999999999e-109\n",
      "1.2299999999999991e-110\n",
      "1.229999999999999e-111\n",
      "1.229999999999999e-112\n",
      "1.229999999999999e-113\n",
      "1.229999999999999e-114\n",
      "1.229999999999999e-115\n",
      "1.2299999999999989e-116\n",
      "1.2299999999999989e-117\n",
      "1.229999999999999e-118\n",
      "1.229999999999999e-119\n",
      "1.229999999999999e-120\n",
      "1.229999999999999e-121\n",
      "1.229999999999999e-122\n",
      "1.229999999999999e-123\n",
      "1.229999999999999e-124\n",
      "1.229999999999999e-125\n",
      "1.229999999999999e-126\n",
      "1.2299999999999989e-127\n",
      "1.229999999999999e-128\n",
      "1.2299999999999989e-129\n",
      "1.2299999999999989e-130\n",
      "1.229999999999999e-131\n",
      "1.2299999999999989e-132\n",
      "1.2299999999999989e-133\n",
      "1.229999999999999e-134\n",
      "1.229999999999999e-135\n",
      "1.229999999999999e-136\n",
      "1.229999999999999e-137\n",
      "1.229999999999999e-138\n",
      "1.2299999999999991e-139\n",
      "1.229999999999999e-140\n",
      "1.229999999999999e-141\n",
      "1.229999999999999e-142\n",
      "1.2299999999999989e-143\n",
      "1.2299999999999989e-144\n",
      "1.2299999999999989e-145\n",
      "1.2299999999999988e-146\n",
      "1.2299999999999988e-147\n",
      "1.2299999999999989e-148\n",
      "1.229999999999999e-149\n",
      "1.229999999999999e-150\n",
      "1.229999999999999e-151\n",
      "1.229999999999999e-152\n",
      "1.229999999999999e-153\n",
      "1.229999999999999e-154\n",
      "1.229999999999999e-155\n",
      "1.229999999999999e-156\n",
      "1.229999999999999e-157\n",
      "1.2299999999999989e-158\n",
      "1.229999999999999e-159\n",
      "1.229999999999999e-160\n",
      "1.229999999999999e-161\n",
      "1.229999999999999e-162\n",
      "1.229999999999999e-163\n",
      "1.2299999999999991e-164\n",
      "1.2299999999999992e-165\n",
      "1.2299999999999992e-166\n",
      "1.2299999999999992e-167\n",
      "1.2299999999999992e-168\n",
      "1.2299999999999992e-169\n",
      "1.2299999999999993e-170\n",
      "1.2299999999999993e-171\n",
      "1.2299999999999993e-172\n",
      "1.2299999999999993e-173\n",
      "1.2299999999999993e-174\n",
      "1.2299999999999992e-175\n",
      "1.2299999999999993e-176\n",
      "1.2299999999999993e-177\n",
      "1.2299999999999993e-178\n",
      "1.2299999999999993e-179\n",
      "1.2299999999999993e-180\n",
      "1.2299999999999992e-181\n",
      "1.2299999999999993e-182\n",
      "1.2299999999999993e-183\n",
      "1.2299999999999992e-184\n",
      "1.2299999999999992e-185\n",
      "1.2299999999999991e-186\n",
      "1.2299999999999992e-187\n",
      "1.2299999999999992e-188\n",
      "1.2299999999999992e-189\n",
      "1.2299999999999993e-190\n",
      "1.2299999999999994e-191\n",
      "1.2299999999999994e-192\n",
      "1.2299999999999995e-193\n",
      "1.2299999999999995e-194\n",
      "1.2299999999999995e-195\n",
      "1.2299999999999996e-196\n",
      "1.2299999999999997e-197\n",
      "1.2299999999999997e-198\n",
      "1.2299999999999998e-199\n",
      "1.2299999999999998e-200\n",
      "1.2299999999999998e-201\n",
      "1.2299999999999997e-202\n",
      "1.2299999999999996e-203\n",
      "1.2299999999999996e-204\n",
      "1.2299999999999995e-205\n",
      "1.2299999999999995e-206\n",
      "1.2299999999999996e-207\n",
      "1.2299999999999997e-208\n",
      "1.2299999999999998e-209\n",
      "1.2299999999999997e-210\n",
      "1.2299999999999998e-211\n",
      "1.2299999999999997e-212\n",
      "1.2299999999999998e-213\n",
      "1.2299999999999998e-214\n",
      "1.2299999999999997e-215\n",
      "1.2299999999999997e-216\n",
      "1.2299999999999997e-217\n",
      "1.2299999999999997e-218\n",
      "1.2299999999999997e-219\n",
      "1.2299999999999997e-220\n",
      "1.2299999999999996e-221\n",
      "1.2299999999999997e-222\n",
      "1.2299999999999996e-223\n",
      "1.2299999999999995e-224\n",
      "1.2299999999999996e-225\n",
      "1.2299999999999995e-226\n",
      "1.2299999999999995e-227\n",
      "1.2299999999999994e-228\n",
      "1.2299999999999994e-229\n",
      "1.2299999999999994e-230\n",
      "1.2299999999999994e-231\n",
      "1.2299999999999994e-232\n",
      "1.2299999999999994e-233\n",
      "1.2299999999999994e-234\n",
      "1.2299999999999994e-235\n",
      "1.2299999999999995e-236\n",
      "1.2299999999999995e-237\n",
      "1.2299999999999996e-238\n",
      "1.2299999999999995e-239\n",
      "1.2299999999999996e-240\n",
      "1.2299999999999995e-241\n",
      "1.2299999999999996e-242\n",
      "1.2299999999999995e-243\n",
      "1.2299999999999995e-244\n",
      "1.2299999999999995e-245\n",
      "1.2299999999999994e-246\n",
      "1.2299999999999994e-247\n",
      "1.2299999999999995e-248\n",
      "1.2299999999999994e-249\n",
      "1.2299999999999993e-250\n",
      "1.2299999999999994e-251\n",
      "1.2299999999999995e-252\n",
      "1.2299999999999995e-253\n",
      "1.2299999999999995e-254\n",
      "1.2299999999999995e-255\n",
      "1.2299999999999995e-256\n",
      "1.2299999999999995e-257\n",
      "1.2299999999999994e-258\n",
      "1.2299999999999993e-259\n",
      "1.2299999999999994e-260\n",
      "1.2299999999999995e-261\n",
      "1.2299999999999995e-262\n",
      "1.2299999999999995e-263\n",
      "1.2299999999999995e-264\n",
      "1.2299999999999994e-265\n",
      "1.2299999999999994e-266\n",
      "1.2299999999999994e-267\n",
      "1.2299999999999995e-268\n",
      "1.2299999999999996e-269\n",
      "1.2299999999999996e-270\n",
      "1.2299999999999997e-271\n",
      "1.2299999999999996e-272\n",
      "1.2299999999999997e-273\n",
      "1.2299999999999996e-274\n",
      "1.2299999999999996e-275\n",
      "1.2299999999999997e-276\n",
      "1.2299999999999998e-277\n",
      "1.2299999999999998e-278\n",
      "1.2299999999999999e-279\n",
      "1.2299999999999999e-280\n",
      "1.2299999999999999e-281\n",
      "1.2299999999999998e-282\n",
      "1.2299999999999998e-283\n",
      "1.2299999999999998e-284\n",
      "1.2299999999999998e-285\n",
      "1.2299999999999997e-286\n",
      "1.2299999999999997e-287\n",
      "1.2299999999999996e-288\n",
      "1.2299999999999996e-289\n",
      "1.2299999999999996e-290\n",
      "1.2299999999999997e-291\n",
      "1.2299999999999997e-292\n",
      "1.2299999999999997e-293\n",
      "1.2299999999999998e-294\n",
      "1.2299999999999997e-295\n",
      "1.2299999999999997e-296\n",
      "1.2299999999999996e-297\n",
      "1.2299999999999997e-298\n",
      "1.2299999999999998e-299\n",
      "1.2299999999999998e-300\n",
      "1.2299999999999998e-301\n",
      "1.2299999999999997e-302\n",
      "1.2299999999999998e-303\n",
      "1.2299999999999998e-304\n",
      "1.2299999999999998e-305\n",
      "1.2299999999999997e-306\n",
      "1.2299999999999997e-307\n",
      "1.2299999999999997e-308\n",
      "1.23e-309\n",
      "1.23e-310\n",
      "1.23e-311\n",
      "1.23e-312\n",
      "1.23e-313\n",
      "1.23e-314\n",
      "1.23e-315\n",
      "1.23e-316\n",
      "1.23e-317\n",
      "1.23e-318\n",
      "1.23003e-319\n",
      "1.23e-320\n",
      "1.23e-321\n",
      "1.24e-322\n",
      "1e-323\n",
      "0.0\n",
      "inf\n",
      "0\n"
     ]
    }
   ],
   "source": [
    "def reverse(x):\n",
    "    \"\"\"\n",
    "    :type x: int\n",
    "    :rtype: int\n",
    "     \"\"\"\n",
    "    n = x if x > 0 else -x\n",
    "    res = 0\n",
    "    while n:\n",
    "        res = res * 10 + n % 10\n",
    "        n = n / 10\n",
    "        print(n)\n",
    "    print(res)\n",
    "    if abs(res) > 0x7fffffff:\n",
    "        return 0\n",
    "    return res if x > 0 else -res\n",
    "print(reverse(-123))"
   ]
  },
  {
   "cell_type": "code",
   "execution_count": 24,
   "metadata": {},
   "outputs": [
    {
     "name": "stdout",
     "output_type": "stream",
     "text": [
      "-54321\n"
     ]
    },
    {
     "data": {
      "text/plain": [
       "True"
      ]
     },
     "execution_count": 24,
     "metadata": {},
     "output_type": "execute_result"
    }
   ],
   "source": [
    "print(-int(str(-12345)[-1:0:-1]))\n",
    "0x7fffffff == 2**31-1"
   ]
  },
  {
   "cell_type": "code",
   "execution_count": 46,
   "metadata": {},
   "outputs": [
    {
     "name": "stdout",
     "output_type": "stream",
     "text": [
      "res 0\n",
      "1\n",
      "res 1\n",
      "2\n",
      "res 3\n",
      "2\n"
     ]
    },
    {
     "data": {
      "text/plain": [
       "1"
      ]
     },
     "execution_count": 46,
     "metadata": {},
     "output_type": "execute_result"
    }
   ],
   "source": [
    "#136  用2进制异或的方法 不懂\n",
    "def singleNumber(nums):\n",
    "    \"\"\"\n",
    "    :type nums: List[int]\n",
    "    :rtype: int\n",
    "    \"\"\"\n",
    "    res = 0\n",
    "    for i in nums:\n",
    "        print('res',res)\n",
    "        print(i)\n",
    "        res = res ^ i\n",
    "    return res\n",
    "singleNumber([1,2,2])"
   ]
  },
  {
   "cell_type": "code",
   "execution_count": 48,
   "metadata": {},
   "outputs": [
    {
     "name": "stdout",
     "output_type": "stream",
     "text": [
      "3\n"
     ]
    }
   ],
   "source": [
    "def singleNumber(nums):\n",
    "    \"\"\"\n",
    "    :type nums: List[int]\n",
    "    :rtype: int\n",
    "    \"\"\"\n",
    "    from collections import Counter\n",
    "    counter = Counter(nums)\n",
    "    for i, j in counter.items():\n",
    "        if j == 1:\n",
    "            return i\n",
    "print(singleNumber([1,2,2,1,3]))\n"
   ]
  },
  {
   "cell_type": "code",
   "execution_count": 75,
   "metadata": {},
   "outputs": [
    {
     "data": {
      "text/plain": [
       "True"
      ]
     },
     "execution_count": 75,
     "metadata": {},
     "output_type": "execute_result"
    }
   ],
   "source": [
    "#202  击败1% 强无敌\n",
    "def happy_number(n):\n",
    "    import numpy as np\n",
    "    c = []\n",
    "    while True:\n",
    "        n = list(str(n))\n",
    "        n = [int(i)**2 for i in n]\n",
    "        n = np.array(n)\n",
    "        n = np.sum(n)\n",
    "        if n == 1:\n",
    "            return True\n",
    "        if n in c:\n",
    "            return False\n",
    "        c.append(n)\n",
    "\n",
    "#     result = 1\n",
    "#     for i in n:\n",
    "#         result *= int(i)**2\n",
    "#     print(result)\n",
    "happy_number(19)"
   ]
  },
  {
   "cell_type": "code",
   "execution_count": 80,
   "metadata": {},
   "outputs": [
    {
     "data": {
      "text/plain": [
       "7"
      ]
     },
     "execution_count": 80,
     "metadata": {},
     "output_type": "execute_result"
    }
   ],
   "source": [
    "c = set()\n",
    "c.add(3)\n",
    "c.add(4)\n",
    "sum(c)"
   ]
  },
  {
   "cell_type": "code",
   "execution_count": null,
   "metadata": {
    "collapsed": true
   },
   "outputs": [],
   "source": [
    "class Solution(object):\n",
    "    def isHappy(self, n):\n",
    "        \"\"\"\n",
    "        :type n: int\n",
    "        :rtype: bool\n",
    "        \"\"\"\n",
    "        c = set()\n",
    "        while not n in c:\n",
    "            c.add(n)\n",
    "            n = sum([int(x) ** 2 for x in str(n)])\n",
    "        return n==1\n",
    "#优化了两个\n",
    "#1 把退出条件合为一个\n",
    "#2 直接对set 求sum"
   ]
  },
  {
   "cell_type": "code",
   "execution_count": 4,
   "metadata": {},
   "outputs": [
    {
     "data": {
      "text/plain": [
       "23"
      ]
     },
     "execution_count": 4,
     "metadata": {},
     "output_type": "execute_result"
    }
   ],
   "source": [
    "int(str(2)+str(3))"
   ]
  },
  {
   "cell_type": "code",
   "execution_count": 9,
   "metadata": {},
   "outputs": [
    {
     "name": "stdout",
     "output_type": "stream",
     "text": [
      "plus=2\n",
      "plus=2\n",
      "plus=1\n",
      "100\n"
     ]
    }
   ],
   "source": [
    "# 67 二进制加法\n",
    "def addBinary(a, b):\n",
    "    \"\"\"\n",
    "    :type a: str\n",
    "    :type b: str\n",
    "    :rtype: str\n",
    "    \"\"\"\n",
    "    res = ''\n",
    "    i, j, plus = len(a)-1, len(b)-1, 0\n",
    "    while i>=0 or j>=0 or plus==1:\n",
    "        plus += int(a[i]) if i>= 0 else 0  #这个if很重要，如果长度不一样 就填充0\n",
    "        plus += int(b[j]) if j>= 0 else 0\n",
    "#         print('plus='+str(plus))\n",
    "        res = str(plus % 2) + res\n",
    "        i, j, plus = i-1, j-1, int(plus/2)\n",
    "    return res\n",
    "print(addBinary(str(11), str(1)))"
   ]
  },
  {
   "cell_type": "code",
   "execution_count": 4,
   "metadata": {},
   "outputs": [
    {
     "data": {
      "text/plain": [
       "float"
      ]
     },
     "execution_count": 4,
     "metadata": {},
     "output_type": "execute_result"
    }
   ],
   "source": [
    "type(4 / 2)"
   ]
  },
  {
   "cell_type": "code",
   "execution_count": 34,
   "metadata": {},
   "outputs": [
    {
     "name": "stdout",
     "output_type": "stream",
     "text": [
      "100\n"
     ]
    }
   ],
   "source": [
    "#67 转换成十进制运算再返回二进制\n",
    "def binary_add(a, b):\n",
    "     return bin((int(a, 2) + int(b, 2)))[2:]\n",
    "print(binary_add('11', '1'))"
   ]
  },
  {
   "cell_type": "code",
   "execution_count": 29,
   "metadata": {},
   "outputs": [
    {
     "data": {
      "text/plain": [
       "'0b1100'"
      ]
     },
     "execution_count": 29,
     "metadata": {},
     "output_type": "execute_result"
    }
   ],
   "source": [
    "bin(0b110+0b110)"
   ]
  },
  {
   "cell_type": "code",
   "execution_count": 32,
   "metadata": {},
   "outputs": [
    {
     "data": {
      "text/plain": [
       "int"
      ]
     },
     "execution_count": 32,
     "metadata": {},
     "output_type": "execute_result"
    }
   ],
   "source": [
    "type(0b110)"
   ]
  },
  {
   "cell_type": "code",
   "execution_count": 2,
   "metadata": {},
   "outputs": [
    {
     "name": "stdout",
     "output_type": "stream",
     "text": [
      "0\n",
      "1\n",
      "2\n"
     ]
    }
   ],
   "source": [
    "a = [0, 1,2]\n",
    "for i in a:\n",
    "    print(a[i] if i>=1 else 0)"
   ]
  },
  {
   "cell_type": "code",
   "execution_count": 10,
   "metadata": {},
   "outputs": [
    {
     "data": {
      "text/plain": [
       "'66542'"
      ]
     },
     "execution_count": 10,
     "metadata": {},
     "output_type": "execute_result"
    }
   ],
   "source": [
    "str(24566)[::-1]"
   ]
  },
  {
   "cell_type": "code",
   "execution_count": 36,
   "metadata": {},
   "outputs": [
    {
     "name": "stdout",
     "output_type": "stream",
     "text": [
      "3\n"
     ]
    }
   ],
   "source": [
    "#69 sqrt 使用2分法，尝试每一个值,效果不如导入math\n",
    "def my_sqrt(a):\n",
    "    left = 0\n",
    "    right = a\n",
    "    while left != right:\n",
    "        mid = int((left + right) / 2)\n",
    "#         print('mid='+str(mid))\n",
    "        x1 = mid ** 2 - a\n",
    "        x2 = (mid+1) ** 2 - a\n",
    "#         print('x1='+str(x1))\n",
    "#         print(x2)\n",
    "        if x1 == 0:\n",
    "            return mid\n",
    "        elif x2 == 0:\n",
    "            return mid+1\n",
    "        elif x1 * x2 < 0:\n",
    "            return mid \n",
    "        elif x1<0 and x2<0:\n",
    "            left = mid\n",
    "        elif x1>0 and x2>0:\n",
    "            right = mid\n",
    "    return 0\n",
    "print(my_sqrt(9))"
   ]
  },
  {
   "cell_type": "code",
   "execution_count": 39,
   "metadata": {},
   "outputs": [
    {
     "data": {
      "text/plain": [
       "2.23606797749979"
      ]
     },
     "execution_count": 39,
     "metadata": {},
     "output_type": "execute_result"
    }
   ],
   "source": [
    "import math\n",
    "math.sqrt(5)"
   ]
  },
  {
   "cell_type": "code",
   "execution_count": 40,
   "metadata": {},
   "outputs": [
    {
     "data": {
      "text/plain": [
       "'\\x03'"
      ]
     },
     "execution_count": 40,
     "metadata": {},
     "output_type": "execute_result"
    }
   ],
   "source": [
    "chr(3)"
   ]
  },
  {
   "cell_type": "code",
   "execution_count": 4,
   "metadata": {},
   "outputs": [
    {
     "data": {
      "text/plain": [
       "'DKJ'"
      ]
     },
     "execution_count": 4,
     "metadata": {},
     "output_type": "execute_result"
    }
   ],
   "source": [
    "# 168 excel格式  数字转成字母\n",
    "def convertToTitle(n):\n",
    "    \"\"\"\n",
    "    :type n: int\n",
    "    :rtype: str\n",
    "    \"\"\"\n",
    "    res = ''\n",
    "    while n:\n",
    "        res = chr((n - 1) % 26 + ord('A')) + res\n",
    "        n = int((n-1) / 26)  #如果不用n-1 的话 26 的结果就会是AZ，用了n-1就不会执行第二次了\n",
    "    return res\n",
    "convertToTitle(3000)"
   ]
  },
  {
   "cell_type": "code",
   "execution_count": 42,
   "metadata": {},
   "outputs": [
    {
     "name": "stdout",
     "output_type": "stream",
     "text": [
      "Help on built-in function chr in module builtins:\n",
      "\n",
      "chr(i, /)\n",
      "    Return a Unicode string of one character with ordinal i; 0 <= i <= 0x10ffff.\n",
      "\n"
     ]
    }
   ],
   "source": [
    "help(chr)"
   ]
  },
  {
   "cell_type": "code",
   "execution_count": 48,
   "metadata": {},
   "outputs": [
    {
     "name": "stdout",
     "output_type": "stream",
     "text": [
      "Help on built-in function ord in module builtins:\n",
      "\n",
      "ord(c, /)\n",
      "    Return the Unicode code point for a one-character string.\n",
      "\n"
     ]
    }
   ],
   "source": [
    "help(ord)"
   ]
  },
  {
   "cell_type": "code",
   "execution_count": 53,
   "metadata": {},
   "outputs": [
    {
     "data": {
      "text/plain": [
       "str"
      ]
     },
     "execution_count": 53,
     "metadata": {},
     "output_type": "execute_result"
    }
   ],
   "source": [
    "type(chr(65))"
   ]
  },
  {
   "cell_type": "code",
   "execution_count": 49,
   "metadata": {},
   "outputs": [
    {
     "data": {
      "text/plain": [
       "65"
      ]
     },
     "execution_count": 49,
     "metadata": {},
     "output_type": "execute_result"
    }
   ],
   "source": [
    "ord('A')"
   ]
  },
  {
   "cell_type": "code",
   "execution_count": 56,
   "metadata": {
    "collapsed": true
   },
   "outputs": [],
   "source": [
    "a=0\n",
    "while a:\n",
    "    print(a)"
   ]
  },
  {
   "cell_type": "code",
   "execution_count": 12,
   "metadata": {},
   "outputs": [
    {
     "name": "stdout",
     "output_type": "stream",
     "text": [
      "J\n",
      "115\n",
      "KJ\n",
      "4\n",
      "DKJ\n",
      "DKJ\n"
     ]
    }
   ],
   "source": [
    "# 1-26 A-Z 26-52 AA-AZ 52-78 BA-BZ 26**25-26**26 ZA-ZZ  AAZ-\n",
    "# 他的循环更通用更漂亮\n",
    "def num_English(n):\n",
    "    a = int(((n-1)/26))\n",
    "    ret = chr(65+((n-1)%26))\n",
    "    print(ret)\n",
    "    while a >= 1:\n",
    "        print(a)\n",
    "        ret = chr((a)%26+64)+ ret\n",
    "        print(ret)\n",
    "        a = int(((a-1)/26))\n",
    "    return ret\n",
    "print(num_English(3000))"
   ]
  },
  {
   "cell_type": "code",
   "execution_count": 4,
   "metadata": {},
   "outputs": [
    {
     "data": {
      "text/plain": [
       "115.38461538461539"
      ]
     },
     "execution_count": 4,
     "metadata": {},
     "output_type": "execute_result"
    }
   ],
   "source": [
    "3000/26"
   ]
  },
  {
   "cell_type": "code",
   "execution_count": 5,
   "metadata": {},
   "outputs": [
    {
     "data": {
      "text/plain": [
       "4.423076923076923"
      ]
     },
     "execution_count": 5,
     "metadata": {},
     "output_type": "execute_result"
    }
   ],
   "source": [
    "115/26"
   ]
  },
  {
   "cell_type": "code",
   "execution_count": null,
   "metadata": {},
   "outputs": [],
   "source": []
  },
  {
   "cell_type": "code",
   "execution_count": 19,
   "metadata": {},
   "outputs": [
    {
     "data": {
      "text/plain": [
       "False"
      ]
     },
     "execution_count": 19,
     "metadata": {},
     "output_type": "execute_result"
    }
   ],
   "source": [
    "bool(0)"
   ]
  },
  {
   "cell_type": "code",
   "execution_count": 27,
   "metadata": {},
   "outputs": [
    {
     "name": "stdout",
     "output_type": "stream",
     "text": [
      "0\n",
      "10\n",
      "1\n",
      "296\n",
      "2\n",
      "3000\n",
      "3000\n"
     ]
    }
   ],
   "source": [
    "# 171 excel字母变数字  65-A\n",
    "def Eng_num(n):\n",
    "    ret = 0\n",
    "    for i, j in enumerate(n[::-1]):\n",
    "        ret += (ord(j)-64)*(26**i)\n",
    "    return ret\n",
    "print(Eng_num('DKJ'))"
   ]
  },
  {
   "cell_type": "code",
   "execution_count": 22,
   "metadata": {},
   "outputs": [
    {
     "data": {
      "text/plain": [
       "65"
      ]
     },
     "execution_count": 22,
     "metadata": {},
     "output_type": "execute_result"
    }
   ],
   "source": [
    "ord('A')"
   ]
  },
  {
   "cell_type": "code",
   "execution_count": 34,
   "metadata": {},
   "outputs": [
    {
     "name": "stdout",
     "output_type": "stream",
     "text": [
      "1\n",
      "3\n",
      "29\n"
     ]
    }
   ],
   "source": [
    "def titleToNumber(s):\n",
    "    \"\"\"\n",
    "    :type s: str\n",
    "    :rtype: int\n",
    "    \"\"\"\n",
    "    res = 0\n",
    "    for num in s:\n",
    "        res = res * 26 + (ord(num)-ord('A')+1)\n",
    "    return res\n",
    "print(titleToNumber('AC'))"
   ]
  },
  {
   "cell_type": "code",
   "execution_count": 42,
   "metadata": {},
   "outputs": [
    {
     "data": {
      "text/plain": [
       "120"
      ]
     },
     "execution_count": 42,
     "metadata": {},
     "output_type": "execute_result"
    }
   ],
   "source": [
    "import math\n",
    "math.factorial(5)"
   ]
  },
  {
   "cell_type": "code",
   "execution_count": 41,
   "metadata": {},
   "outputs": [
    {
     "name": "stdout",
     "output_type": "stream",
     "text": [
      "1\n"
     ]
    }
   ],
   "source": [
    "#172  阶乘之后的零的个数 数因子里面有多少个5和2  都是他们乘出来的10\n",
    "def num_last_zero(n):\n",
    "    ret = 0\n",
    "    while n>=5:\n",
    "        ret += int(n/5)\n",
    "        n /= 5\n",
    "    return ret\n",
    "print(num_last_zero(5))"
   ]
  },
  {
   "cell_type": "code",
   "execution_count": 61,
   "metadata": {},
   "outputs": [
    {
     "name": "stdout",
     "output_type": "stream",
     "text": [
      "6\n"
     ]
    }
   ],
   "source": [
    "#172  时间太长没通过\n",
    "def num_last_zero1(n):\n",
    "    import math\n",
    "    c = math.factorial(n)\n",
    "    j=0\n",
    "    for i in reversed(list(str(c))):\n",
    "        if int(i) == 0:\n",
    "            j += 1\n",
    "        else:\n",
    "            return j\n",
    "print(num_last_zero1(25))"
   ]
  },
  {
   "cell_type": "code",
   "execution_count": null,
   "metadata": {
    "collapsed": true
   },
   "outputs": [],
   "source": []
  }
 ],
 "metadata": {
  "kernelspec": {
   "display_name": "Python 3",
   "language": "python",
   "name": "python3"
  },
  "language_info": {
   "codemirror_mode": {
    "name": "ipython",
    "version": 3
   },
   "file_extension": ".py",
   "mimetype": "text/x-python",
   "name": "python",
   "nbconvert_exporter": "python",
   "pygments_lexer": "ipython3",
   "version": "3.6.2"
  }
 },
 "nbformat": 4,
 "nbformat_minor": 2
}
